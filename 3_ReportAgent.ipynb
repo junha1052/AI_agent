{
  "cells": [
    {
      "cell_type": "markdown",
      "metadata": {
        "id": "view-in-github",
        "colab_type": "text"
      },
      "source": [
        "<a href=\"https://colab.research.google.com/github/junha1052/AI_agent/blob/main/3_ReportAgent.ipynb\" target=\"_parent\"><img src=\"https://colab.research.google.com/assets/colab-badge.svg\" alt=\"Open In Colab\"/></a>"
      ]
    },
    {
      "cell_type": "code",
      "execution_count": 3,
      "metadata": {
        "id": "tgWF2j10oSEh",
        "outputId": "44a29000-3cd8-4ae6-9634-4ec97c12ab40",
        "colab": {
          "base_uri": "https://localhost:8080/",
          "height": 1000
        }
      },
      "outputs": [
        {
          "output_type": "stream",
          "name": "stdout",
          "text": [
            "Requirement already satisfied: langchain in /usr/local/lib/python3.11/dist-packages (0.3.22)\n",
            "Collecting langgraph\n",
            "  Downloading langgraph-0.3.25-py3-none-any.whl.metadata (7.7 kB)\n",
            "Collecting langchain-google-genai\n",
            "  Downloading langchain_google_genai-2.1.2-py3-none-any.whl.metadata (4.7 kB)\n",
            "Requirement already satisfied: langchain-core in /usr/local/lib/python3.11/dist-packages (0.3.49)\n",
            "Collecting langchain-community\n",
            "  Downloading langchain_community-0.3.21-py3-none-any.whl.metadata (2.4 kB)\n",
            "Collecting langchain-experimental\n",
            "  Downloading langchain_experimental-0.3.4-py3-none-any.whl.metadata (1.7 kB)\n",
            "Collecting fpdf\n",
            "  Downloading fpdf-1.7.2.tar.gz (39 kB)\n",
            "  Preparing metadata (setup.py) ... \u001b[?25l\u001b[?25hdone\n",
            "Collecting pdfplumber\n",
            "  Downloading pdfplumber-0.11.6-py3-none-any.whl.metadata (42 kB)\n",
            "\u001b[2K     \u001b[90m━━━━━━━━━━━━━━━━━━━━━━━━━━━━━━━━━━━━━━━━\u001b[0m \u001b[32m42.8/42.8 kB\u001b[0m \u001b[31m3.4 MB/s\u001b[0m eta \u001b[36m0:00:00\u001b[0m\n",
            "\u001b[?25hRequirement already satisfied: langchain-text-splitters<1.0.0,>=0.3.7 in /usr/local/lib/python3.11/dist-packages (from langchain) (0.3.7)\n",
            "Requirement already satisfied: langsmith<0.4,>=0.1.17 in /usr/local/lib/python3.11/dist-packages (from langchain) (0.3.22)\n",
            "Requirement already satisfied: pydantic<3.0.0,>=2.7.4 in /usr/local/lib/python3.11/dist-packages (from langchain) (2.11.1)\n",
            "Requirement already satisfied: SQLAlchemy<3,>=1.4 in /usr/local/lib/python3.11/dist-packages (from langchain) (2.0.40)\n",
            "Requirement already satisfied: requests<3,>=2 in /usr/local/lib/python3.11/dist-packages (from langchain) (2.32.3)\n",
            "Requirement already satisfied: PyYAML>=5.3 in /usr/local/lib/python3.11/dist-packages (from langchain) (6.0.2)\n",
            "Collecting langgraph-checkpoint<3.0.0,>=2.0.10 (from langgraph)\n",
            "  Downloading langgraph_checkpoint-2.0.24-py3-none-any.whl.metadata (4.6 kB)\n",
            "Collecting langgraph-prebuilt<0.2,>=0.1.1 (from langgraph)\n",
            "  Downloading langgraph_prebuilt-0.1.8-py3-none-any.whl.metadata (5.0 kB)\n",
            "Collecting langgraph-sdk<0.2.0,>=0.1.42 (from langgraph)\n",
            "  Downloading langgraph_sdk-0.1.61-py3-none-any.whl.metadata (1.8 kB)\n",
            "Collecting xxhash<4.0.0,>=3.5.0 (from langgraph)\n",
            "  Downloading xxhash-3.5.0-cp311-cp311-manylinux_2_17_x86_64.manylinux2014_x86_64.whl.metadata (12 kB)\n",
            "Collecting filetype<2.0.0,>=1.2.0 (from langchain-google-genai)\n",
            "  Downloading filetype-1.2.0-py2.py3-none-any.whl.metadata (6.5 kB)\n",
            "Collecting google-ai-generativelanguage<0.7.0,>=0.6.16 (from langchain-google-genai)\n",
            "  Downloading google_ai_generativelanguage-0.6.17-py3-none-any.whl.metadata (9.8 kB)\n",
            "Requirement already satisfied: tenacity!=8.4.0,<10.0.0,>=8.1.0 in /usr/local/lib/python3.11/dist-packages (from langchain-core) (9.1.2)\n",
            "Requirement already satisfied: jsonpatch<2.0,>=1.33 in /usr/local/lib/python3.11/dist-packages (from langchain-core) (1.33)\n",
            "Requirement already satisfied: packaging<25,>=23.2 in /usr/local/lib/python3.11/dist-packages (from langchain-core) (24.2)\n",
            "Requirement already satisfied: typing-extensions>=4.7 in /usr/local/lib/python3.11/dist-packages (from langchain-core) (4.13.0)\n",
            "Collecting langchain-core\n",
            "  Downloading langchain_core-0.3.51-py3-none-any.whl.metadata (5.9 kB)\n",
            "Collecting langchain\n",
            "  Downloading langchain-0.3.23-py3-none-any.whl.metadata (7.8 kB)\n",
            "Requirement already satisfied: aiohttp<4.0.0,>=3.8.3 in /usr/local/lib/python3.11/dist-packages (from langchain-community) (3.11.15)\n",
            "Collecting dataclasses-json<0.7,>=0.5.7 (from langchain-community)\n",
            "  Downloading dataclasses_json-0.6.7-py3-none-any.whl.metadata (25 kB)\n",
            "Collecting pydantic-settings<3.0.0,>=2.4.0 (from langchain-community)\n",
            "  Downloading pydantic_settings-2.8.1-py3-none-any.whl.metadata (3.5 kB)\n",
            "Collecting httpx-sse<1.0.0,>=0.4.0 (from langchain-community)\n",
            "  Downloading httpx_sse-0.4.0-py3-none-any.whl.metadata (9.0 kB)\n",
            "Requirement already satisfied: numpy<3,>=1.26.2 in /usr/local/lib/python3.11/dist-packages (from langchain-community) (2.0.2)\n",
            "Collecting langchain-text-splitters<1.0.0,>=0.3.8 (from langchain)\n",
            "  Downloading langchain_text_splitters-0.3.8-py3-none-any.whl.metadata (1.9 kB)\n",
            "Collecting pdfminer.six==20250327 (from pdfplumber)\n",
            "  Downloading pdfminer_six-20250327-py3-none-any.whl.metadata (4.1 kB)\n",
            "Requirement already satisfied: Pillow>=9.1 in /usr/local/lib/python3.11/dist-packages (from pdfplumber) (11.1.0)\n",
            "Collecting pypdfium2>=4.18.0 (from pdfplumber)\n",
            "  Downloading pypdfium2-4.30.1-py3-none-manylinux_2_17_x86_64.manylinux2014_x86_64.whl.metadata (48 kB)\n",
            "\u001b[2K     \u001b[90m━━━━━━━━━━━━━━━━━━━━━━━━━━━━━━━━━━━━━━━━\u001b[0m \u001b[32m48.2/48.2 kB\u001b[0m \u001b[31m2.3 MB/s\u001b[0m eta \u001b[36m0:00:00\u001b[0m\n",
            "\u001b[?25hRequirement already satisfied: charset-normalizer>=2.0.0 in /usr/local/lib/python3.11/dist-packages (from pdfminer.six==20250327->pdfplumber) (3.4.1)\n",
            "Requirement already satisfied: cryptography>=36.0.0 in /usr/local/lib/python3.11/dist-packages (from pdfminer.six==20250327->pdfplumber) (43.0.3)\n",
            "Requirement already satisfied: aiohappyeyeballs>=2.3.0 in /usr/local/lib/python3.11/dist-packages (from aiohttp<4.0.0,>=3.8.3->langchain-community) (2.6.1)\n",
            "Requirement already satisfied: aiosignal>=1.1.2 in /usr/local/lib/python3.11/dist-packages (from aiohttp<4.0.0,>=3.8.3->langchain-community) (1.3.2)\n",
            "Requirement already satisfied: attrs>=17.3.0 in /usr/local/lib/python3.11/dist-packages (from aiohttp<4.0.0,>=3.8.3->langchain-community) (25.3.0)\n",
            "Requirement already satisfied: frozenlist>=1.1.1 in /usr/local/lib/python3.11/dist-packages (from aiohttp<4.0.0,>=3.8.3->langchain-community) (1.5.0)\n",
            "Requirement already satisfied: multidict<7.0,>=4.5 in /usr/local/lib/python3.11/dist-packages (from aiohttp<4.0.0,>=3.8.3->langchain-community) (6.3.1)\n",
            "Requirement already satisfied: propcache>=0.2.0 in /usr/local/lib/python3.11/dist-packages (from aiohttp<4.0.0,>=3.8.3->langchain-community) (0.3.1)\n",
            "Requirement already satisfied: yarl<2.0,>=1.17.0 in /usr/local/lib/python3.11/dist-packages (from aiohttp<4.0.0,>=3.8.3->langchain-community) (1.18.3)\n",
            "Collecting marshmallow<4.0.0,>=3.18.0 (from dataclasses-json<0.7,>=0.5.7->langchain-community)\n",
            "  Downloading marshmallow-3.26.1-py3-none-any.whl.metadata (7.3 kB)\n",
            "Collecting typing-inspect<1,>=0.4.0 (from dataclasses-json<0.7,>=0.5.7->langchain-community)\n",
            "  Downloading typing_inspect-0.9.0-py3-none-any.whl.metadata (1.5 kB)\n",
            "Requirement already satisfied: google-api-core!=2.0.*,!=2.1.*,!=2.10.*,!=2.2.*,!=2.3.*,!=2.4.*,!=2.5.*,!=2.6.*,!=2.7.*,!=2.8.*,!=2.9.*,<3.0.0,>=1.34.1 in /usr/local/lib/python3.11/dist-packages (from google-api-core[grpc]!=2.0.*,!=2.1.*,!=2.10.*,!=2.2.*,!=2.3.*,!=2.4.*,!=2.5.*,!=2.6.*,!=2.7.*,!=2.8.*,!=2.9.*,<3.0.0,>=1.34.1->google-ai-generativelanguage<0.7.0,>=0.6.16->langchain-google-genai) (2.24.2)\n",
            "Requirement already satisfied: google-auth!=2.24.0,!=2.25.0,<3.0.0,>=2.14.1 in /usr/local/lib/python3.11/dist-packages (from google-ai-generativelanguage<0.7.0,>=0.6.16->langchain-google-genai) (2.38.0)\n",
            "Requirement already satisfied: proto-plus<2.0.0,>=1.22.3 in /usr/local/lib/python3.11/dist-packages (from google-ai-generativelanguage<0.7.0,>=0.6.16->langchain-google-genai) (1.26.1)\n",
            "Requirement already satisfied: protobuf!=4.21.0,!=4.21.1,!=4.21.2,!=4.21.3,!=4.21.4,!=4.21.5,<7.0.0,>=3.20.2 in /usr/local/lib/python3.11/dist-packages (from google-ai-generativelanguage<0.7.0,>=0.6.16->langchain-google-genai) (5.29.4)\n",
            "Requirement already satisfied: jsonpointer>=1.9 in /usr/local/lib/python3.11/dist-packages (from jsonpatch<2.0,>=1.33->langchain-core) (3.0.0)\n",
            "Collecting ormsgpack<2.0.0,>=1.8.0 (from langgraph-checkpoint<3.0.0,>=2.0.10->langgraph)\n",
            "  Downloading ormsgpack-1.9.1-cp311-cp311-manylinux_2_17_x86_64.manylinux2014_x86_64.whl.metadata (43 kB)\n",
            "\u001b[2K     \u001b[90m━━━━━━━━━━━━━━━━━━━━━━━━━━━━━━━━━━━━━━━━\u001b[0m \u001b[32m43.5/43.5 kB\u001b[0m \u001b[31m3.4 MB/s\u001b[0m eta \u001b[36m0:00:00\u001b[0m\n",
            "\u001b[?25hRequirement already satisfied: httpx>=0.25.2 in /usr/local/lib/python3.11/dist-packages (from langgraph-sdk<0.2.0,>=0.1.42->langgraph) (0.28.1)\n",
            "Requirement already satisfied: orjson>=3.10.1 in /usr/local/lib/python3.11/dist-packages (from langgraph-sdk<0.2.0,>=0.1.42->langgraph) (3.10.16)\n",
            "Requirement already satisfied: requests-toolbelt<2.0.0,>=1.0.0 in /usr/local/lib/python3.11/dist-packages (from langsmith<0.4,>=0.1.17->langchain) (1.0.0)\n",
            "Requirement already satisfied: zstandard<0.24.0,>=0.23.0 in /usr/local/lib/python3.11/dist-packages (from langsmith<0.4,>=0.1.17->langchain) (0.23.0)\n",
            "Requirement already satisfied: annotated-types>=0.6.0 in /usr/local/lib/python3.11/dist-packages (from pydantic<3.0.0,>=2.7.4->langchain) (0.7.0)\n",
            "Requirement already satisfied: pydantic-core==2.33.0 in /usr/local/lib/python3.11/dist-packages (from pydantic<3.0.0,>=2.7.4->langchain) (2.33.0)\n",
            "Requirement already satisfied: typing-inspection>=0.4.0 in /usr/local/lib/python3.11/dist-packages (from pydantic<3.0.0,>=2.7.4->langchain) (0.4.0)\n",
            "Collecting python-dotenv>=0.21.0 (from pydantic-settings<3.0.0,>=2.4.0->langchain-community)\n",
            "  Downloading python_dotenv-1.1.0-py3-none-any.whl.metadata (24 kB)\n",
            "Requirement already satisfied: idna<4,>=2.5 in /usr/local/lib/python3.11/dist-packages (from requests<3,>=2->langchain) (3.10)\n",
            "Requirement already satisfied: urllib3<3,>=1.21.1 in /usr/local/lib/python3.11/dist-packages (from requests<3,>=2->langchain) (2.3.0)\n",
            "Requirement already satisfied: certifi>=2017.4.17 in /usr/local/lib/python3.11/dist-packages (from requests<3,>=2->langchain) (2025.1.31)\n",
            "Requirement already satisfied: greenlet>=1 in /usr/local/lib/python3.11/dist-packages (from SQLAlchemy<3,>=1.4->langchain) (3.1.1)\n",
            "Requirement already satisfied: cffi>=1.12 in /usr/local/lib/python3.11/dist-packages (from cryptography>=36.0.0->pdfminer.six==20250327->pdfplumber) (1.17.1)\n",
            "Requirement already satisfied: googleapis-common-protos<2.0.0,>=1.56.2 in /usr/local/lib/python3.11/dist-packages (from google-api-core!=2.0.*,!=2.1.*,!=2.10.*,!=2.2.*,!=2.3.*,!=2.4.*,!=2.5.*,!=2.6.*,!=2.7.*,!=2.8.*,!=2.9.*,<3.0.0,>=1.34.1->google-api-core[grpc]!=2.0.*,!=2.1.*,!=2.10.*,!=2.2.*,!=2.3.*,!=2.4.*,!=2.5.*,!=2.6.*,!=2.7.*,!=2.8.*,!=2.9.*,<3.0.0,>=1.34.1->google-ai-generativelanguage<0.7.0,>=0.6.16->langchain-google-genai) (1.69.2)\n",
            "Requirement already satisfied: grpcio<2.0dev,>=1.33.2 in /usr/local/lib/python3.11/dist-packages (from google-api-core[grpc]!=2.0.*,!=2.1.*,!=2.10.*,!=2.2.*,!=2.3.*,!=2.4.*,!=2.5.*,!=2.6.*,!=2.7.*,!=2.8.*,!=2.9.*,<3.0.0,>=1.34.1->google-ai-generativelanguage<0.7.0,>=0.6.16->langchain-google-genai) (1.71.0)\n",
            "Requirement already satisfied: grpcio-status<2.0.dev0,>=1.33.2 in /usr/local/lib/python3.11/dist-packages (from google-api-core[grpc]!=2.0.*,!=2.1.*,!=2.10.*,!=2.2.*,!=2.3.*,!=2.4.*,!=2.5.*,!=2.6.*,!=2.7.*,!=2.8.*,!=2.9.*,<3.0.0,>=1.34.1->google-ai-generativelanguage<0.7.0,>=0.6.16->langchain-google-genai) (1.71.0)\n",
            "Requirement already satisfied: cachetools<6.0,>=2.0.0 in /usr/local/lib/python3.11/dist-packages (from google-auth!=2.24.0,!=2.25.0,<3.0.0,>=2.14.1->google-ai-generativelanguage<0.7.0,>=0.6.16->langchain-google-genai) (5.5.2)\n",
            "Requirement already satisfied: pyasn1-modules>=0.2.1 in /usr/local/lib/python3.11/dist-packages (from google-auth!=2.24.0,!=2.25.0,<3.0.0,>=2.14.1->google-ai-generativelanguage<0.7.0,>=0.6.16->langchain-google-genai) (0.4.2)\n",
            "Requirement already satisfied: rsa<5,>=3.1.4 in /usr/local/lib/python3.11/dist-packages (from google-auth!=2.24.0,!=2.25.0,<3.0.0,>=2.14.1->google-ai-generativelanguage<0.7.0,>=0.6.16->langchain-google-genai) (4.9)\n",
            "Requirement already satisfied: anyio in /usr/local/lib/python3.11/dist-packages (from httpx>=0.25.2->langgraph-sdk<0.2.0,>=0.1.42->langgraph) (4.9.0)\n",
            "Requirement already satisfied: httpcore==1.* in /usr/local/lib/python3.11/dist-packages (from httpx>=0.25.2->langgraph-sdk<0.2.0,>=0.1.42->langgraph) (1.0.7)\n",
            "Requirement already satisfied: h11<0.15,>=0.13 in /usr/local/lib/python3.11/dist-packages (from httpcore==1.*->httpx>=0.25.2->langgraph-sdk<0.2.0,>=0.1.42->langgraph) (0.14.0)\n",
            "Collecting mypy-extensions>=0.3.0 (from typing-inspect<1,>=0.4.0->dataclasses-json<0.7,>=0.5.7->langchain-community)\n",
            "  Downloading mypy_extensions-1.0.0-py3-none-any.whl.metadata (1.1 kB)\n",
            "Requirement already satisfied: pycparser in /usr/local/lib/python3.11/dist-packages (from cffi>=1.12->cryptography>=36.0.0->pdfminer.six==20250327->pdfplumber) (2.22)\n",
            "Requirement already satisfied: pyasn1<0.7.0,>=0.6.1 in /usr/local/lib/python3.11/dist-packages (from pyasn1-modules>=0.2.1->google-auth!=2.24.0,!=2.25.0,<3.0.0,>=2.14.1->google-ai-generativelanguage<0.7.0,>=0.6.16->langchain-google-genai) (0.6.1)\n",
            "Requirement already satisfied: sniffio>=1.1 in /usr/local/lib/python3.11/dist-packages (from anyio->httpx>=0.25.2->langgraph-sdk<0.2.0,>=0.1.42->langgraph) (1.3.1)\n",
            "Downloading langgraph-0.3.25-py3-none-any.whl (142 kB)\n",
            "\u001b[2K   \u001b[90m━━━━━━━━━━━━━━━━━━━━━━━━━━━━━━━━━━━━━━━━\u001b[0m \u001b[32m142.4/142.4 kB\u001b[0m \u001b[31m12.9 MB/s\u001b[0m eta \u001b[36m0:00:00\u001b[0m\n",
            "\u001b[?25hDownloading langchain_google_genai-2.1.2-py3-none-any.whl (42 kB)\n",
            "\u001b[2K   \u001b[90m━━━━━━━━━━━━━━━━━━━━━━━━━━━━━━━━━━━━━━━━\u001b[0m \u001b[32m42.0/42.0 kB\u001b[0m \u001b[31m3.5 MB/s\u001b[0m eta \u001b[36m0:00:00\u001b[0m\n",
            "\u001b[?25hDownloading langchain_community-0.3.21-py3-none-any.whl (2.5 MB)\n",
            "\u001b[2K   \u001b[90m━━━━━━━━━━━━━━━━━━━━━━━━━━━━━━━━━━━━━━━━\u001b[0m \u001b[32m2.5/2.5 MB\u001b[0m \u001b[31m84.2 MB/s\u001b[0m eta \u001b[36m0:00:00\u001b[0m\n",
            "\u001b[?25hDownloading langchain-0.3.23-py3-none-any.whl (1.0 MB)\n",
            "\u001b[2K   \u001b[90m━━━━━━━━━━━━━━━━━━━━━━━━━━━━━━━━━━━━━━━━\u001b[0m \u001b[32m1.0/1.0 MB\u001b[0m \u001b[31m57.0 MB/s\u001b[0m eta \u001b[36m0:00:00\u001b[0m\n",
            "\u001b[?25hDownloading langchain_core-0.3.51-py3-none-any.whl (423 kB)\n",
            "\u001b[2K   \u001b[90m━━━━━━━━━━━━━━━━━━━━━━━━━━━━━━━━━━━━━━━━\u001b[0m \u001b[32m423.3/423.3 kB\u001b[0m \u001b[31m33.3 MB/s\u001b[0m eta \u001b[36m0:00:00\u001b[0m\n",
            "\u001b[?25hDownloading langchain_experimental-0.3.4-py3-none-any.whl (209 kB)\n",
            "\u001b[2K   \u001b[90m━━━━━━━━━━━━━━━━━━━━━━━━━━━━━━━━━━━━━━━━\u001b[0m \u001b[32m209.2/209.2 kB\u001b[0m \u001b[31m17.7 MB/s\u001b[0m eta \u001b[36m0:00:00\u001b[0m\n",
            "\u001b[?25hDownloading pdfplumber-0.11.6-py3-none-any.whl (60 kB)\n",
            "\u001b[2K   \u001b[90m━━━━━━━━━━━━━━━━━━━━━━━━━━━━━━━━━━━━━━━━\u001b[0m \u001b[32m60.2/60.2 kB\u001b[0m \u001b[31m3.8 MB/s\u001b[0m eta \u001b[36m0:00:00\u001b[0m\n",
            "\u001b[?25hDownloading pdfminer_six-20250327-py3-none-any.whl (5.6 MB)\n",
            "\u001b[2K   \u001b[90m━━━━━━━━━━━━━━━━━━━━━━━━━━━━━━━━━━━━━━━━\u001b[0m \u001b[32m5.6/5.6 MB\u001b[0m \u001b[31m91.1 MB/s\u001b[0m eta \u001b[36m0:00:00\u001b[0m\n",
            "\u001b[?25hDownloading dataclasses_json-0.6.7-py3-none-any.whl (28 kB)\n",
            "Downloading filetype-1.2.0-py2.py3-none-any.whl (19 kB)\n",
            "Downloading google_ai_generativelanguage-0.6.17-py3-none-any.whl (1.4 MB)\n",
            "\u001b[2K   \u001b[90m━━━━━━━━━━━━━━━━━━━━━━━━━━━━━━━━━━━━━━━━\u001b[0m \u001b[32m1.4/1.4 MB\u001b[0m \u001b[31m63.4 MB/s\u001b[0m eta \u001b[36m0:00:00\u001b[0m\n",
            "\u001b[?25hDownloading httpx_sse-0.4.0-py3-none-any.whl (7.8 kB)\n",
            "Downloading langchain_text_splitters-0.3.8-py3-none-any.whl (32 kB)\n",
            "Downloading langgraph_checkpoint-2.0.24-py3-none-any.whl (42 kB)\n",
            "\u001b[2K   \u001b[90m━━━━━━━━━━━━━━━━━━━━━━━━━━━━━━━━━━━━━━━━\u001b[0m \u001b[32m42.0/42.0 kB\u001b[0m \u001b[31m3.7 MB/s\u001b[0m eta \u001b[36m0:00:00\u001b[0m\n",
            "\u001b[?25hDownloading langgraph_prebuilt-0.1.8-py3-none-any.whl (25 kB)\n",
            "Downloading langgraph_sdk-0.1.61-py3-none-any.whl (47 kB)\n",
            "\u001b[2K   \u001b[90m━━━━━━━━━━━━━━━━━━━━━━━━━━━━━━━━━━━━━━━━\u001b[0m \u001b[32m47.2/47.2 kB\u001b[0m \u001b[31m4.0 MB/s\u001b[0m eta \u001b[36m0:00:00\u001b[0m\n",
            "\u001b[?25hDownloading pydantic_settings-2.8.1-py3-none-any.whl (30 kB)\n",
            "Downloading pypdfium2-4.30.1-py3-none-manylinux_2_17_x86_64.manylinux2014_x86_64.whl (2.9 MB)\n",
            "\u001b[2K   \u001b[90m━━━━━━━━━━━━━━━━━━━━━━━━━━━━━━━━━━━━━━━━\u001b[0m \u001b[32m2.9/2.9 MB\u001b[0m \u001b[31m88.4 MB/s\u001b[0m eta \u001b[36m0:00:00\u001b[0m\n",
            "\u001b[?25hDownloading xxhash-3.5.0-cp311-cp311-manylinux_2_17_x86_64.manylinux2014_x86_64.whl (194 kB)\n",
            "\u001b[2K   \u001b[90m━━━━━━━━━━━━━━━━━━━━━━━━━━━━━━━━━━━━━━━━\u001b[0m \u001b[32m194.8/194.8 kB\u001b[0m \u001b[31m17.7 MB/s\u001b[0m eta \u001b[36m0:00:00\u001b[0m\n",
            "\u001b[?25hDownloading marshmallow-3.26.1-py3-none-any.whl (50 kB)\n",
            "\u001b[2K   \u001b[90m━━━━━━━━━━━━━━━━━━━━━━━━━━━━━━━━━━━━━━━━\u001b[0m \u001b[32m50.9/50.9 kB\u001b[0m \u001b[31m4.5 MB/s\u001b[0m eta \u001b[36m0:00:00\u001b[0m\n",
            "\u001b[?25hDownloading ormsgpack-1.9.1-cp311-cp311-manylinux_2_17_x86_64.manylinux2014_x86_64.whl (223 kB)\n",
            "\u001b[2K   \u001b[90m━━━━━━━━━━━━━━━━━━━━━━━━━━━━━━━━━━━━━━━━\u001b[0m \u001b[32m223.6/223.6 kB\u001b[0m \u001b[31m20.3 MB/s\u001b[0m eta \u001b[36m0:00:00\u001b[0m\n",
            "\u001b[?25hDownloading python_dotenv-1.1.0-py3-none-any.whl (20 kB)\n",
            "Downloading typing_inspect-0.9.0-py3-none-any.whl (8.8 kB)\n",
            "Downloading mypy_extensions-1.0.0-py3-none-any.whl (4.7 kB)\n",
            "Building wheels for collected packages: fpdf\n",
            "  Building wheel for fpdf (setup.py) ... \u001b[?25l\u001b[?25hdone\n",
            "  Created wheel for fpdf: filename=fpdf-1.7.2-py2.py3-none-any.whl size=40704 sha256=c2a8deb1a1a5add7028f89aa585c515ec93b684fd8d2b4dd83896856174ced8c\n",
            "  Stored in directory: /root/.cache/pip/wheels/65/4f/66/bbda9866da446a72e206d6484cd97381cbc7859a7068541c36\n",
            "Successfully built fpdf\n",
            "Installing collected packages: fpdf, filetype, xxhash, python-dotenv, pypdfium2, ormsgpack, mypy-extensions, marshmallow, httpx-sse, typing-inspect, pydantic-settings, pdfminer.six, langgraph-sdk, dataclasses-json, pdfplumber, langchain-core, langgraph-checkpoint, langchain-text-splitters, google-ai-generativelanguage, langgraph-prebuilt, langchain-google-genai, langchain, langgraph, langchain-community, langchain-experimental\n",
            "  Attempting uninstall: langchain-core\n",
            "    Found existing installation: langchain-core 0.3.49\n",
            "    Uninstalling langchain-core-0.3.49:\n",
            "      Successfully uninstalled langchain-core-0.3.49\n",
            "  Attempting uninstall: langchain-text-splitters\n",
            "    Found existing installation: langchain-text-splitters 0.3.7\n",
            "    Uninstalling langchain-text-splitters-0.3.7:\n",
            "      Successfully uninstalled langchain-text-splitters-0.3.7\n",
            "  Attempting uninstall: google-ai-generativelanguage\n",
            "    Found existing installation: google-ai-generativelanguage 0.6.15\n",
            "    Uninstalling google-ai-generativelanguage-0.6.15:\n",
            "      Successfully uninstalled google-ai-generativelanguage-0.6.15\n",
            "  Attempting uninstall: langchain\n",
            "    Found existing installation: langchain 0.3.22\n",
            "    Uninstalling langchain-0.3.22:\n",
            "      Successfully uninstalled langchain-0.3.22\n",
            "\u001b[31mERROR: pip's dependency resolver does not currently take into account all the packages that are installed. This behaviour is the source of the following dependency conflicts.\n",
            "google-generativeai 0.8.4 requires google-ai-generativelanguage==0.6.15, but you have google-ai-generativelanguage 0.6.17 which is incompatible.\u001b[0m\u001b[31m\n",
            "\u001b[0mSuccessfully installed dataclasses-json-0.6.7 filetype-1.2.0 fpdf-1.7.2 google-ai-generativelanguage-0.6.17 httpx-sse-0.4.0 langchain-0.3.23 langchain-community-0.3.21 langchain-core-0.3.51 langchain-experimental-0.3.4 langchain-google-genai-2.1.2 langchain-text-splitters-0.3.8 langgraph-0.3.25 langgraph-checkpoint-2.0.24 langgraph-prebuilt-0.1.8 langgraph-sdk-0.1.61 marshmallow-3.26.1 mypy-extensions-1.0.0 ormsgpack-1.9.1 pdfminer.six-20250327 pdfplumber-0.11.6 pydantic-settings-2.8.1 pypdfium2-4.30.1 python-dotenv-1.1.0 typing-inspect-0.9.0 xxhash-3.5.0\n"
          ]
        },
        {
          "output_type": "display_data",
          "data": {
            "application/vnd.colab-display-data+json": {
              "pip_warning": {
                "packages": [
                  "google"
                ]
              },
              "id": "aa7308f5ab0b4a929af3f88c4cea351d"
            }
          },
          "metadata": {}
        }
      ],
      "source": [
        "!pip install langchain langgraph langchain-google-genai langchain-core langchain-community langchain-experimental fpdf pdfplumber"
      ]
    },
    {
      "cell_type": "code",
      "execution_count": 4,
      "metadata": {
        "id": "4jLETHnXnKBh"
      },
      "outputs": [],
      "source": [
        "from langchain_core.runnables import RunnableConfig\n",
        "from langchain.schema import AIMessage\n",
        "from typing import Annotated, Literal\n",
        "from typing_extensions import TypedDict\n",
        "from langchain_google_genai import ChatGoogleGenerativeAI\n",
        "from langchain_community.tools.tavily_search import TavilySearchResults\n",
        "from langgraph.graph import StateGraph, START, END\n",
        "from langgraph.graph.message import add_messages\n",
        "from langgraph.prebuilt import ToolNode\n",
        "from langgraph.checkpoint.memory import MemorySaver\n",
        "from langchain_core.prompts import PromptTemplate\n",
        "from langchain_core.tools import tool\n",
        "from langchain_community.agent_toolkits import FileManagementToolkit\n",
        "from langchain_experimental.tools.python.tool import PythonAstREPLTool\n",
        "from pydantic import BaseModel, Field\n",
        "from fpdf import FPDF\n",
        "import random\n",
        "import pdfplumber\n",
        "import os\n",
        "import requests\n",
        "import warnings\n",
        "\n",
        "warnings.filterwarnings(\"ignore\")"
      ]
    },
    {
      "cell_type": "code",
      "execution_count": 5,
      "metadata": {
        "id": "YtLQpBZQIHsa",
        "cellView": "form"
      },
      "outputs": [],
      "source": [
        "google_api_key = \ # @param {\"type\":\"string\"}\n",
        "tavily_api_key = \ # @param {\"type\":\"string\"}"
      ]
    },
    {
      "cell_type": "code",
      "execution_count": 6,
      "metadata": {
        "id": "y8azdfq-l-ps"
      },
      "outputs": [],
      "source": [
        "os.environ[\"google_api_key\"] = google_api_key\n",
        "os.environ[\"GOOGLE_API_KEY\"] = google_api_key\n",
        "os.environ[\"TAVILY_API_KEY\"] = tavily_api_key"
      ]
    },
    {
      "cell_type": "code",
      "execution_count": 7,
      "metadata": {
        "id": "AuwqB6S6nKBl"
      },
      "outputs": [],
      "source": [
        "# 그래프 상태 정의\n",
        "\n",
        "class State(TypedDict):\n",
        "    query : Annotated[str, \"User Question\"]\n",
        "    answer : Annotated[str, \"LLM response\"]\n",
        "    messages : Annotated[list, add_messages]\n",
        "    tool_call : Annotated[dict, \"Tool Call Result\"]"
      ]
    },
    {
      "cell_type": "code",
      "execution_count": 8,
      "metadata": {
        "id": "G-CNSwr0qnsi"
      },
      "outputs": [],
      "source": [
        "# LLM 정의\n",
        "\n",
        "llm = ChatGoogleGenerativeAI(model=\"gemini-2.5-pro-exp-03-25\",\n",
        "                             temperature=0,\n",
        "                             convert_system_message_to_human=True)\n",
        "\n",
        "# llm = ChatGoogleGenerativeAI(model=\"gemini-2.0-flash\",\n",
        "#                              temperature=0,\n",
        "#                              convert_system_message_to_human=True)"
      ]
    },
    {
      "cell_type": "code",
      "execution_count": 9,
      "metadata": {
        "id": "vNMa89_7nKBm"
      },
      "outputs": [],
      "source": [
        "@tool\n",
        "def read_pdf(file_path: str):\n",
        "    \"\"\"\n",
        "    PDF 파일에서 텍스트를 추출하는 도구입니다.\n",
        "    표 형식 또는 일반 텍스트가 포함된 PDF를 읽고 문자열로 반환합니다.\n",
        "\n",
        "    file_path 예시: './report.pdf'\n",
        "    \"\"\"\n",
        "    try:\n",
        "        text = \"\"\n",
        "        with pdfplumber.open(file_path) as pdf:\n",
        "            for page in pdf.pages:\n",
        "                page_text = page.extract_text()\n",
        "                if page_text:\n",
        "                    text += page_text + \"\\n\"\n",
        "        return text.strip() if text.strip() else \"❌ PDF에서 텍스트를 추출할 수 없습니다.\"\n",
        "    except Exception as e:\n",
        "        return f\"❌ PDF 읽기 오류: {str(e)}\""
      ]
    },
    {
      "cell_type": "code",
      "execution_count": 10,
      "metadata": {
        "id": "xqkLXOw6nKBn"
      },
      "outputs": [],
      "source": [
        "@tool\n",
        "def write_pdf(content: str, filename: str = \"output.pdf\", summary: bool =True):\n",
        "    \"\"\"\n",
        "    텍스트를 PDF 파일로 저장하는 도구입니다.\n",
        "    PDF형태의 문서로 만들어야할 때 이 도구를 사용하세요.\n",
        "    \"\"\"\n",
        "\n",
        "    if summary:\n",
        "        prompt = PromptTemplate.from_template(\"\"\"\n",
        "                당신은 보고서를 작성하는 어시스턴트입니다. 당신에겐 문서 모음이 제공되고 이를 잘 분석하여 보고서를 작성하여야 합니다.\n",
        "                아래의 content는 문서 모음입니다. 문서의 제목, 본문을 잘 판단하고 정리하여 요약합니다.\n",
        "                항상 구조화된 출력을 제공하세요.\n",
        "                항상 마지막엔 인사이트도 첨부합니다.\n",
        "\n",
        "                content : {content}\n",
        "                \"\"\")\n",
        "\n",
        "        chain = prompt | llm\n",
        "\n",
        "        content = chain.invoke({\"content\":content}).content\n",
        "\n",
        "    else:\n",
        "        pass\n",
        "\n",
        "    font_url = \"https://github.com/google/fonts/raw/main/ofl/notosanskr/NotoSansKR%5Bwght%5D.ttf\"\n",
        "    font_path = \"./fonts/NotoSansKR.ttf\"\n",
        "\n",
        "    try:\n",
        "        os.mkdir(\"./fonts/\")\n",
        "        response = requests.get(font_url)\n",
        "        with open(font_path, \"wb\") as f:\n",
        "            f.write(response.content)\n",
        "    except:\n",
        "        pass\n",
        "\n",
        "    pdf = FPDF()\n",
        "    pdf.add_page()\n",
        "    pdf.set_auto_page_break(auto=True, margin=15)\n",
        "\n",
        "    font_path = \"./fonts/NotoSansKR.ttf\"  # <-- 여기에 실제 폰트 파일이 있어야 함\n",
        "\n",
        "    try:\n",
        "        pdf.add_font(\"NotoSans\", \"\", font_path, uni=True)\n",
        "        pdf.set_font(\"NotoSans\", size=12)\n",
        "    except:\n",
        "        raise ValueError(\"한글 폰트를 등록할 수 없습니다.\")\n",
        "\n",
        "    for line in content.split(\"\\n\"):\n",
        "        pdf.multi_cell(0, 10, line)\n",
        "    pdf.output(f\"./{filename}\")\n",
        "\n",
        "    return f\"{filename} 저장 완료\""
      ]
    },
    {
      "cell_type": "code",
      "execution_count": 11,
      "metadata": {
        "id": "sKMUZEXPIHsc"
      },
      "outputs": [],
      "source": [
        "# 툴 정의\n",
        "# TavilySearchResults : 웹 검색 도구\n",
        "# PythonAstREPLTool : 파이썬 코드 실행 도구\n",
        "# write_pdf : pdf 생성 도구\n",
        "# read_pdf : pdf 읽기 도구\n",
        "# file_delete : 파일 삭제 도구\n",
        "# list_directory : 파일 목록 읽기 도구\n",
        "\n",
        "tools = [TavilySearchResults(max_results=10), PythonAstREPLTool(), write_pdf, read_pdf, *FileManagementToolkit(\n",
        "                                                                            selected_tools=[\"file_delete\",\"list_directory\"]).get_tools()]\n",
        "search_tool, code_tool, write_tool, read_tool, delete_tool, listdir_tool= tools"
      ]
    },
    {
      "cell_type": "code",
      "execution_count": 12,
      "metadata": {
        "id": "TmTiddGxyB6K",
        "outputId": "ab0fa70b-c186-45d0-99ed-c9daee94bfa0",
        "colab": {
          "base_uri": "https://localhost:8080/",
          "height": 36
        }
      },
      "outputs": [
        {
          "output_type": "execute_result",
          "data": {
            "text/plain": [
              "'Build_with_AI_Test.pdf 저장 완료'"
            ],
            "application/vnd.google.colaboratory.intrinsic+json": {
              "type": "string"
            }
          },
          "metadata": {},
          "execution_count": 12
        }
      ],
      "source": [
        "# PDF 쓰기 도구 예시\n",
        "\n",
        "write_tool.invoke({\"content\":\"안녕하세요? \\nBuild_with_AI에 오신 것을 환영합니다.\", \"filename\":\"Build_with_AI_Test.pdf\", \"summary\":False})"
      ]
    },
    {
      "cell_type": "code",
      "execution_count": 13,
      "metadata": {
        "id": "Rany0FPunZaL",
        "outputId": "9f011f42-4035-46cf-9513-e49e42fc4dfb",
        "colab": {
          "base_uri": "https://localhost:8080/"
        }
      },
      "outputs": [
        {
          "output_type": "stream",
          "name": "stderr",
          "text": [
            "WARNING:pdfminer.pdfpage:CropBox missing from /Page, defaulting to MediaBox\n",
            "WARNING:pdfminer.pdfpage:CropBox missing from /Page, defaulting to MediaBox\n"
          ]
        },
        {
          "output_type": "stream",
          "name": "stdout",
          "text": [
            "\n",
            "\n",
            " 안녕하세요?\n",
            "Build_with_AI에 오신 것을 환영합니다.\n"
          ]
        }
      ],
      "source": [
        "# PDF 읽기 도구 예시\n",
        "\n",
        "print(\"\\n\\n\", read_tool.invoke(\"Build_with_AI_Test.pdf\"))"
      ]
    },
    {
      "cell_type": "code",
      "source": [
        "# 파일 목록 도구 예시\n",
        "\n",
        "print(listdir_tool.invoke(input=\"\"))"
      ],
      "metadata": {
        "id": "bBAYyu8xYpM_",
        "outputId": "59f733d6-ebfa-4643-8cc9-69e8ff7e4669",
        "colab": {
          "base_uri": "https://localhost:8080/"
        }
      },
      "execution_count": 14,
      "outputs": [
        {
          "output_type": "stream",
          "name": "stdout",
          "text": [
            ".config\n",
            "fonts\n",
            "Build_with_AI_Test.pdf\n",
            "sample_data\n"
          ]
        }
      ]
    },
    {
      "cell_type": "code",
      "execution_count": 15,
      "metadata": {
        "id": "VDLWFnegnikc",
        "outputId": "aed21fe9-5ae8-4711-f2f3-6ea72fdad5d1",
        "colab": {
          "base_uri": "https://localhost:8080/",
          "height": 36
        }
      },
      "outputs": [
        {
          "output_type": "execute_result",
          "data": {
            "text/plain": [
              "'File deleted successfully: Build_with_AI_Test.pdf.'"
            ],
            "application/vnd.google.colaboratory.intrinsic+json": {
              "type": "string"
            }
          },
          "metadata": {},
          "execution_count": 15
        }
      ],
      "source": [
        "# 삭제 도구 예시\n",
        "\n",
        "delete_tool.invoke(\"Build_with_AI_Test.pdf\")"
      ]
    },
    {
      "cell_type": "code",
      "execution_count": 16,
      "metadata": {
        "id": "0uOvOZf3nKBn"
      },
      "outputs": [],
      "source": [
        "# LLM에게 도구 할당\n",
        "\n",
        "llm_with_tools = llm.bind_tools(tools)"
      ]
    },
    {
      "cell_type": "code",
      "execution_count": 17,
      "metadata": {
        "id": "UrMAISv-nKBo"
      },
      "outputs": [],
      "source": [
        "# 전체 메시지 중 마지막 메시지를 제외하고 최대 8개까지 단기 기억(history)으로 추출\n",
        "\n",
        "def shorterm_memory(state:State):\n",
        "\n",
        "    if len(state[\"messages\"]) > 8:\n",
        "        history = state[\"messages\"][-8:-1]\n",
        "    elif len(state[\"messages\"]) == 1:\n",
        "        history = \"\"\n",
        "    else:\n",
        "        history = state[\"messages\"][:-1]\n",
        "\n",
        "    return history"
      ]
    },
    {
      "cell_type": "code",
      "execution_count": 18,
      "metadata": {
        "id": "gsqpQmxknKBo"
      },
      "outputs": [],
      "source": [
        "class HistoryChecker(BaseModel):\n",
        "    \"\"\"\n",
        "    이전의 대화 기록을 참고하여 질문에 대해 답변할 수 있는지 판단합니다.\n",
        "    답변할 수 있다면 \"yes\", 답변할 수 없다면 \"no\"를 반환합니다.\n",
        "    \"\"\"\n",
        "\n",
        "    yes_no : Literal[\"yes\", \"no\"] = Field(..., description=\"\"\"Use your previous conversation history to determine if you can answer your questions.\n",
        "    Return \"yes\" if you can answer, \"no\" if you can't answer.\"\"\")"
      ]
    },
    {
      "cell_type": "code",
      "execution_count": 19,
      "metadata": {
        "id": "7SsCloETnKBp"
      },
      "outputs": [],
      "source": [
        "# 히스토리 기반 답변 분기를 위한 함수 설정\n",
        "\n",
        "def history_check(state:State):\n",
        "\n",
        "    prompt = PromptTemplate.from_template(\"\"\"\n",
        "\n",
        "                이전의 대화 기록을 참고하여 질문에 대해 답변할 수 있는지 판단합니다.\n",
        "                답변할 수 있다면 \"yes\", 답변할 수 없다면 \"no\"를 반환합니다.\n",
        "\n",
        "                대화 기록 : {history}\n",
        "\n",
        "                질문 : {query}\n",
        "\n",
        "                \"\"\")\n",
        "\n",
        "    chain = prompt | history_checker\n",
        "\n",
        "    history = shorterm_memory(state)\n",
        "\n",
        "    result = chain.invoke({\"history\":history,\n",
        "                            \"query\":state[\"query\"]})\n",
        "\n",
        "    return result.yes_no"
      ]
    },
    {
      "cell_type": "code",
      "execution_count": 20,
      "metadata": {
        "id": "CDAlnV3dnKBp"
      },
      "outputs": [],
      "source": [
        "# LLM의 응답을 HistoryChecker 클래스 구조에 맞춰 파싱하도록 설정\n",
        "\n",
        "history_checker = llm.with_structured_output(HistoryChecker)"
      ]
    },
    {
      "cell_type": "code",
      "execution_count": 21,
      "metadata": {
        "id": "fx8dfRdlnKBp"
      },
      "outputs": [],
      "source": [
        "# 기억 기반 답변 노드\n",
        "\n",
        "def memory_chat(state:State):\n",
        "\n",
        "    prompt = PromptTemplate.from_template(\"\"\"\n",
        "\n",
        "                이전의 대화 기록을 참고하여 질문에 대해 답변하세요.\n",
        "                아래 대화 기록을 첨부합니다.\n",
        "                대화 기록을 통해 답변이 어렵다면 내부 지식을 참조하세요.\n",
        "\n",
        "                대화 기록 : {history}\n",
        "\n",
        "                질문 : {query}\n",
        "\n",
        "                \"\"\")\n",
        "\n",
        "\n",
        "    chain = prompt | llm\n",
        "\n",
        "    history = shorterm_memory(state)\n",
        "\n",
        "    result = chain.invoke({\"history\":history,\n",
        "                           \"query\":state[\"query\"]})\n",
        "\n",
        "    if len(state[\"tool_call\"]) == 0:\n",
        "        return {\"answer\":result.content,\n",
        "                \"messages\":result,\n",
        "                \"tool_call\":\"사용된 기록 없음.\"}\n",
        "    else:\n",
        "        return {\"answer\":result.content,\n",
        "                \"messages\":result}"
      ]
    },
    {
      "cell_type": "code",
      "execution_count": 22,
      "metadata": {
        "id": "ZLm8qqC7nKBq"
      },
      "outputs": [],
      "source": [
        "# 기억 기반 답변 분기 노드\n",
        "\n",
        "def history_node(state:State):\n",
        "    if len(state[\"messages\"]) == 1:\n",
        "        return {\"answer\":\"답변 없음\",\n",
        "                \"tool_call\":\"사용된 도구 없음\"}\n",
        "    else:\n",
        "        return state"
      ]
    },
    {
      "cell_type": "code",
      "execution_count": 23,
      "metadata": {
        "id": "IVxNiGN0nKBq"
      },
      "outputs": [],
      "source": [
        "# 도구 선택 노드\n",
        "\n",
        "def select(\n",
        "    state: State,\n",
        "):\n",
        "\n",
        "    prompt = PromptTemplate.from_template(\"\"\"\n",
        "\n",
        "                이전의 대화 기록을 참고하여 질문에 대해 답변하세요.\n",
        "                아래 대화 기록을 첨부합니다.\n",
        "                이전의 대화가 다음에 어떤 도구를 사용해야하는지 힌트가 될 수 있습니다. 꼭 참조하세요.\n",
        "                도구의 변화가 큰 결과를 가져올 수 있습니다.\n",
        "                들어온 메시지, 정답, 이전 기록을 모두 분석하여 가장 적절한 도구를 선택하세요.\n",
        "\n",
        "                대화 기록 : {history}\n",
        "\n",
        "                최근 사용한 도구 : {tool_name}\n",
        "\n",
        "                정답 : {answer}\n",
        "\n",
        "                질문 : {query}\n",
        "\n",
        "                \"\"\")\n",
        "\n",
        "    chain = prompt | llm_with_tools\n",
        "\n",
        "    history = shorterm_memory(state)\n",
        "\n",
        "    result = chain.invoke({\"history\" : history,\n",
        "                           \"tool_name\" : state[\"tool_call\"],\n",
        "                            \"answer\": state[\"answer\"],\n",
        "                            \"query\": state[\"query\"]})\n",
        "\n",
        "    if hasattr(result, \"tool_calls\") and len(result.tool_calls) > 0:\n",
        "        tool_calls = result.tool_calls\n",
        "\n",
        "        return {\"messages\": result,\n",
        "                \"tool_call\":tool_calls}\n",
        "    else:\n",
        "        return {\"messages\":AIMessage(content=f\"\"\"도구를 선택하지 못했습니다. 적절한 도구를 재선택하세요.\n",
        "                                        \"\"\"),\n",
        "                                    \"tool_call\":\"선택된 도구 없음\"}\n",
        "\n"
      ]
    },
    {
      "cell_type": "code",
      "execution_count": 24,
      "metadata": {
        "id": "y6s0RyEfnKBq"
      },
      "outputs": [],
      "source": [
        "# 도구 실행 노드\n",
        "\n",
        "tool_node = ToolNode(tools) # 형태에 맞는 쿼리 들어오면 자동 실행"
      ]
    },
    {
      "cell_type": "code",
      "execution_count": 25,
      "metadata": {
        "id": "gD-vMnQenKBq"
      },
      "outputs": [],
      "source": [
        "class AnswerChecker(BaseModel):\n",
        "    \"\"\"\n",
        "    정답 분류기입니다.\n",
        "\n",
        "    정답이 질문을 해결했는지 여부를 판단합니다.\n",
        "    질문을 해결하지 못했을 시 해결될 때까지 도구를 이용합니다.\n",
        "\n",
        "    질문을 해결했다면 \"end\", 해결하지 못했다면 \"tool\"을 반환합니다.\n",
        "    \"\"\"\n",
        "\n",
        "\n",
        "    end : Literal[\"end\", \"tool\"] = Field(..., description=\"\"\"You are the answer sorter.\n",
        "\n",
        "                                                                Determine if the correct answer has solved the question.\n",
        "                                                                If the question is not resolved, use the tool until it is resolved.\n",
        "\n",
        "                                                                Return \"end\" if you solved the question, or \"tool\" if you didn't.\"\"\")"
      ]
    },
    {
      "cell_type": "code",
      "execution_count": 26,
      "metadata": {
        "id": "51lPyxhdnKBr"
      },
      "outputs": [],
      "source": [
        "# LLM의 응답을 AnswerChecker 클래스 구조에 맞춰 파싱하도록 설정\n",
        "\n",
        "answer_checker = llm.with_structured_output(AnswerChecker)"
      ]
    },
    {
      "cell_type": "code",
      "execution_count": 27,
      "metadata": {
        "id": "zyZTkR8fnKBr"
      },
      "outputs": [],
      "source": [
        "# 답변 확인 노드\n",
        "\n",
        "def response(state:State):\n",
        "\n",
        "    return {\"answer\":state[\"messages\"][-1]}"
      ]
    },
    {
      "cell_type": "code",
      "execution_count": 28,
      "metadata": {
        "id": "mBV4ASvjnKBr"
      },
      "outputs": [],
      "source": [
        "# 답변 완성 판단 분기 함수\n",
        "\n",
        "def answer_check(state:State):\n",
        "\n",
        "    prompt = PromptTemplate.from_template(\"\"\"\n",
        "    당신은 정답 분류기 어시스턴트입니다.\n",
        "\n",
        "    정답이 질문을 해결하였는지 여부를 판단합니다.\n",
        "    질문을 해결하지 못했다면 도구를 이용합니다.\n",
        "\n",
        "    질문을 해결하였다면 \"end\", 아니라면 \"tool\"을 반환합니다.\n",
        "\n",
        "    기존 History도 참고하여 답변하세요.\n",
        "\n",
        "    History : {history}\n",
        "\n",
        "    정답 : {answer}\n",
        "\n",
        "    질문 : {query}\n",
        "    \"\"\")\n",
        "\n",
        "    chain = prompt | answer_checker\n",
        "\n",
        "    history = shorterm_memory(state)\n",
        "\n",
        "    result = chain.invoke({\"history\" : history,\n",
        "                            \"answer\": state[\"answer\"],\n",
        "                            \"query\": state[\"query\"]})\n",
        "\n",
        "    return result.end"
      ]
    },
    {
      "cell_type": "code",
      "execution_count": 29,
      "metadata": {
        "id": "50EDu4mOnKBr"
      },
      "outputs": [],
      "source": [
        "# 그래프 정의\n",
        "\n",
        "graph_builder = StateGraph(State)"
      ]
    },
    {
      "cell_type": "code",
      "execution_count": 30,
      "metadata": {
        "id": "qDdqjxeNnKBr"
      },
      "outputs": [],
      "source": [
        "# 노드 및 엣지 정의\n",
        "\n",
        "graph_builder.add_node(\"history_node\", history_node)\n",
        "graph_builder.add_node(\"memory_chat\", memory_chat)\n",
        "graph_builder.add_node(\"select\", select)\n",
        "graph_builder.add_node(\"tools\", tool_node)\n",
        "graph_builder.add_node(\"response\", response)\n",
        "\n",
        "\n",
        "graph_builder.add_edge(START, \"history_node\")\n",
        "graph_builder.add_conditional_edges(\"history_node\",\n",
        "                            history_check,\n",
        "                            {\"yes\":\"memory_chat\",\n",
        "                             \"no\":\"select\"})\n",
        "graph_builder.add_edge(\"select\", \"tools\")\n",
        "graph_builder.add_edge(\"tools\", \"response\")\n",
        "graph_builder.add_edge(\"memory_chat\", \"response\")\n",
        "graph_builder.add_conditional_edges(\"response\",\n",
        "                                    answer_check,\n",
        "                                    {\"end\":END,\n",
        "                                    \"tool\":\"select\"});"
      ]
    },
    {
      "cell_type": "code",
      "execution_count": 31,
      "metadata": {
        "id": "X8Z71CK8nKBr"
      },
      "outputs": [],
      "source": [
        "# 메모리 설정 및 그래프 컴파일\n",
        "\n",
        "memory = MemorySaver()\n",
        "\n",
        "graph = graph_builder.compile(checkpointer=memory)"
      ]
    },
    {
      "cell_type": "code",
      "execution_count": 32,
      "metadata": {
        "id": "YQ2jWtlinKBs",
        "outputId": "66b2a1ef-5c1a-4a0a-aa85-06e3d0807616",
        "colab": {
          "base_uri": "https://localhost:8080/",
          "height": 635
        }
      },
      "outputs": [
        {
          "output_type": "execute_result",
          "data": {
            "text/plain": [
              "<langgraph.graph.state.CompiledStateGraph object at 0x7c3b5d392290>"
            ],
            "image/png": "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\n"
          },
          "metadata": {},
          "execution_count": 32
        }
      ],
      "source": [
        "# 그래프 시각화\n",
        "# 가끔 \"ReadTimeout: HTTPSConnectionPool(host='mermaid.ink', port=443): Read timed out. (read timeout=10)\"라는 에러가 발생\n",
        "# 시간 초과로 그래프 생성에 실패했다는 메시지일뿐 기능과는 관계없으니 진행해도 괜찮습니다.\n",
        "\n",
        "graph"
      ]
    },
    {
      "cell_type": "code",
      "execution_count": 33,
      "metadata": {
        "id": "XWcfKPoOnKBr"
      },
      "outputs": [],
      "source": [
        "# config 재생성 노드, config의 재사용은 고려되지 않음. 재사용한다면 변수에 할당하여 사용할 것\n",
        "\n",
        "def reset_config(limit=20):\n",
        "\n",
        "    thread_id=random.randint(1,999999)\n",
        "\n",
        "    config = RunnableConfig(recursion_limit=limit, configurable={\"thread_id\": thread_id})\n",
        "\n",
        "    return config"
      ]
    },
    {
      "cell_type": "code",
      "execution_count": 34,
      "metadata": {
        "id": "07_bBQgHnKBs"
      },
      "outputs": [],
      "source": [
        "# 출력 함수 정의\n",
        "# mode = \"values\" : 상태의 키, 값의 형태로 반환\n",
        "# mode = \"updates\" : 업데이트되는 값만 반환\n",
        "\n",
        "def streaming(query, config, mode=\"values\"):\n",
        "\n",
        "    result = graph.stream({\"messages\":(\"user\", query),\n",
        "                         \"query\":query}, config=config, stream_mode=mode)\n",
        "\n",
        "    if mode == \"values\":\n",
        "        for step in result:\n",
        "            for k, v in step.items():\n",
        "                if k == \"messages\":\n",
        "                    v[-1].pretty_print()\n",
        "    elif mode == \"updates\":\n",
        "        for step in result:\n",
        "            for k,v in step.items():\n",
        "                print(f\"\\n\\n=== {k} ===\\n\\n\")\n",
        "                print(v)\n",
        "\n",
        "    return"
      ]
    },
    {
      "cell_type": "code",
      "execution_count": 35,
      "metadata": {
        "id": "rI6E1DvhnKBs",
        "outputId": "e88e7a13-9e7d-4b79-f344-5099f27e57cf",
        "colab": {
          "base_uri": "https://localhost:8080/"
        }
      },
      "outputs": [
        {
          "output_type": "stream",
          "name": "stdout",
          "text": [
            "================================\u001b[1m Human Message \u001b[0m=================================\n",
            "\n",
            "1+1은 뭔가요?\n",
            "================================\u001b[1m Human Message \u001b[0m=================================\n",
            "\n",
            "1+1은 뭔가요?\n",
            "==================================\u001b[1m Ai Message \u001b[0m==================================\n",
            "\n",
            "제공해주신 대화 기록에는 '1+1은 뭔가요?'라는 질문만 있고, 그에 대한 이전 답변은 포함되어 있지 않습니다.\n",
            "\n",
            "하지만 제 내부 지식에 따르면, 기본적인 산수에서 1+1의 결과는 **2**입니다.\n",
            "==================================\u001b[1m Ai Message \u001b[0m==================================\n",
            "\n",
            "제공해주신 대화 기록에는 '1+1은 뭔가요?'라는 질문만 있고, 그에 대한 이전 답변은 포함되어 있지 않습니다.\n",
            "\n",
            "하지만 제 내부 지식에 따르면, 기본적인 산수에서 1+1의 결과는 **2**입니다.\n"
          ]
        }
      ],
      "source": [
        "config = reset_config()\n",
        "\n",
        "query = \"1+1은 뭔가요?\"\n",
        "\n",
        "streaming(query, config)"
      ]
    },
    {
      "cell_type": "code",
      "execution_count": 36,
      "metadata": {
        "id": "3KUL2l9hIHsf",
        "outputId": "ecfd67c5-b68d-48da-c7ad-23029eb39061",
        "colab": {
          "base_uri": "https://localhost:8080/",
          "height": 1000
        }
      },
      "outputs": [
        {
          "output_type": "stream",
          "name": "stdout",
          "text": [
            "================================\u001b[1m Human Message \u001b[0m=================================\n",
            "\n",
            "피엔티라는 회사에 대해 조사해주세요. 잘 정리된 보고서를 제공해주십시오. pdf파일로 받기를 희망합니다.\n",
            "================================\u001b[1m Human Message \u001b[0m=================================\n",
            "\n",
            "피엔티라는 회사에 대해 조사해주세요. 잘 정리된 보고서를 제공해주십시오. pdf파일로 받기를 희망합니다.\n",
            "==================================\u001b[1m Ai Message \u001b[0m==================================\n",
            "\n",
            "알겠습니다. 피엔티(PNT) 회사에 대한 정보를 조사하여 보고서 형식으로 정리한 후 PDF 파일로 제공해 드리겠습니다.\n",
            "\n",
            "먼저 회사 정보를 검색하여 보고서 내용을 준비하겠습니다.\n",
            "Tool Calls:\n",
            "  tavily_search_results_json (39923bc9-c88f-4c3f-b7c1-4c589172a240)\n",
            " Call ID: 39923bc9-c88f-4c3f-b7c1-4c589172a240\n",
            "  Args:\n",
            "    query: 피엔티 회사 정보\n",
            "=================================\u001b[1m Tool Message \u001b[0m=================================\n",
            "Name: tavily_search_results_json\n",
            "\n",
            "[{\"title\": \"회사소개 - (주)피엔티\", \"url\": \"https://www.epnt.co.kr/company/\", \"content\": \"주식회사 피앤티는 철저한 장인정신과 미래를 개척하는 도전정신으로 감동을 주는 회사, 신뢰를 주는 롤투롤 설비 생산 기업 입니다.\", \"score\": 0.7797419}, {\"title\": \"(주)피엔티 2025년 기업정보 | 직원수, 근무환경, 복리후생 등 - 사람인\", \"url\": \"https://www.saramin.co.kr/zf_user/company-info/view/csn/Zm9qNG9WcGt6dlp0RWxvelMrSnVHUT09/company_nm/(%EC%A3%BC)%ED%94%BC%EC%97%94%ED%8B%B0\", \"content\": \"피엔티는 각종 롤투롤 컨버팅 기계를 주력으로 성장한 회사입니다. 웹가이딩, 장력제어, 오토터렛, 오토스플라이싱, 코팅, 칼렌더링, 슬리팅 등 기반이 되는 기술에 강점\", \"score\": 0.76194656}, {\"title\": \"(주)피엔티 2025년 기업정보 | 직원수, 근무환경, 복리후생 등 - 사람인\", \"url\": \"https://www.saramin.co.kr/zf_user/company-info/view/csn/NEhUcHczZlljRWlhaVdaWkNSNU5vUT09/company_nm/(%EC%A3%BC)%ED%94%BC%EC%97%94%ED%8B%B0?srsltid=AfmBOoobjr1f3Ijz60Cnq67UKw9pfxjNvIAAYShsoHX9e8onbR7jP7eT\", \"content\": \"(주)피엔티 · 기업형태. 중소기업 · 사원수. 12 명 · 설립일. 업력 7년차 2019년 2월 설립 · 브랜드. 주식회사 피엔티 · 주소. 경기 파주시 파주읍 우계로 251-24 복사하기.\", \"score\": 0.7578844}, {\"title\": \"(주)피엔티 | 롤투롤 컨버팅 기계의 세계적인 전문가\", \"url\": \"https://www.epnt.co.kr/\", \"content\": \"피엔티는 각종 롤투롤 컨버팅 기계를 주력으로 성장한 회사입니다. 웹가이딩, 장력제어, 오토터렛, 오토스플라이싱, 코팅, 칼렌더링, 슬리팅 등 기반이 되는 기술에 강점\", \"score\": 0.7476348}, {\"title\": \"2025년 피엔티 채용 기업정보 | 인크루트\", \"url\": \"https://www.incruit.com/company/5453671/\", \"content\": \"기업명(주)피엔티; 기업규모중견기업. 대표자김준섭; 설립일2003년 12월 29일. 매출액 9,889억 3,553만원 (2024); 사원수 595 명 재직중. 평균연봉5,315만원\", \"score\": 0.7451949}, {\"title\": \"피엔티 - 잡코리아\", \"url\": \"https://www.jobkorea.co.kr/company/16151130\", \"content\": \"JOBKOREA\\n\\n고용노동부에서 임금체불이 없고 신용평가등급, 고용유지율, 산업재해율 등의 조건을 고려해 선정한 강소기업입니다.\\n\\n관심기업 추가하고 채용소식 받기\\n\\n㈜피엔티설명\\n\\n2003년 설립\\n\\n사원수\\n\\n기업 형태\\n\\n연 매출액(2020년 기준)\\n\\n㈜피엔티에 입사해야 하는 이유\\n\\n숫자로 보는 기업 HISTORY\\n\\n사업분야\\n\\n1\\n\\n2\\n\\n3\\n\\n기업분석\\n\\n제목 | 날짜 | 출처\\n상세기업정보 / Brief Credit Report (유료) |  | Nice 평가정보\\n기업문화\\n\\n연말성과급 지급\\n\\n건강검진\\n\\n경조사 지원\\n\\n기숙사 운영\\n\\n직원대출제도\\n\\n근무환경\\n\\n인재상\\n\\n주어진 일에 사명감을 가지며 능력에 자만하지 않으며 행동으로 실천하는 사람\\n\\n현실에 안주하지 않으며 미래의 희망을 현실화시키기 위해 실패에 좌절하지 않고 끊임없이 생각하고 도전하는 사람\\n\\n개개인의 힘이 뭉친 인화에 바탕을 둔 조직의 힘이 기업성장의 밑거름임을 알고, 나아가 서로 간의 신뢰와 정을 나눌 수 있는 사람 [...] 채용 프로세스\\n\\n인사담당자의 리얼 인터뷰\\n\\n피엔티 전략기획팀 지연 팀장\\n\\n채용정보\\n\\n접수기간 | 채용제목 | 경력\\n채용정보가 없습니다.\\n오시는길\\n\\n홈페이지 : http://www.epnt.co.kr / 전화번호 : 054-469-6900\\n\\n\\n\\n잡코리아 기타 정보\\n\\n공지사항\\n\\n잡코리아 서비스 링크\\n\\n고객센터\\n\\n© JOBKOREA LLC. All rights reserved.\", \"score\": 0.7050753}, {\"title\": \"피엔티 2025년 기업정보 - 직원수, 근무환경, 복리후생 등 - 잡코리아\", \"url\": \"https://www.jobkorea.co.kr/recruit/co_read/c/pienti1638\", \"content\": \"1984년 국일기업사로 시작한 피엔티는 80년대 오직 수입품에만 의존해오던 핫멜트 시장에 저렴한 가격과 사용이 편리한 핫멜트 제품을 개발하여 고객의 사랑과 함께\", \"score\": 0.6952351}, {\"title\": \"피엔티(주) 2025년 기업정보 - 잡플래닛\", \"url\": \"https://www.jobplanet.co.kr/companies/49426/landing/%ED%94%BC%EC%97%94%ED%8B%B0\", \"content\": \"기업정보 · 대표 김준섭 · 웹사이트 - · 기업형태 - · 본사 경북 구미시 공단2동 270. 설립일 -; 사원수 141명 (2012); 매출액 546억 7\", \"score\": 0.67192334}, {\"title\": \"피엔티 채용 2025년 기업정보 - 평균연봉 5315만원 - 캐치\", \"url\": \"https://www.catch.co.kr/Comp/CompSummary/238016\", \"content\": \"기업 상세정보. 기업규모, 중견기업. 사원수, 565명 (2024.09). 상세업종, 그 외 기타 특수 목적용 기계 제조업. 매출액. 별도 5,162억 (2023.12).\", \"score\": 0.66464967}, {\"title\": \"피엔티(A137400) | Snapshot | 기업정보 - 상장기업분석\", \"url\": \"https://comp.fnguide.com/SVO2/ASP/SVD_Main.asp?pGB=1&gicode=A137400&cID=&MenuYn=Y&ReportGB=B&NewMenuID=Y&stkGb=701\", \"content\": \"매출 호조로 영업이익 대폭 증가. Roll to Roll 기술을 바탕으로 2차전지 전극공정 장비(양극, 음극, 분리막 생산장비)와 Copper(전지박) 및 각종 IT용 소재를 생산\", \"score\": 0.62770075}]\n"
          ]
        },
        {
          "output_type": "stream",
          "name": "stderr",
          "text": [
            "WARNING:langchain_google_genai.chat_models:Retrying langchain_google_genai.chat_models._chat_with_retry.<locals>._chat_with_retry in 2.0 seconds as it raised ResourceExhausted: 429 You exceeded your current quota, please check your plan and billing details. For more information on this error, head to: https://ai.google.dev/gemini-api/docs/rate-limits. [violations {\n",
            "}\n",
            ", links {\n",
            "  description: \"Learn more about Gemini API quotas\"\n",
            "  url: \"https://ai.google.dev/gemini-api/docs/rate-limits\"\n",
            "}\n",
            ", retry_delay {\n",
            "  seconds: 59\n",
            "}\n",
            "].\n"
          ]
        },
        {
          "output_type": "stream",
          "name": "stdout",
          "text": [
            "=================================\u001b[1m Tool Message \u001b[0m=================================\n",
            "Name: tavily_search_results_json\n",
            "\n",
            "[{\"title\": \"회사소개 - (주)피엔티\", \"url\": \"https://www.epnt.co.kr/company/\", \"content\": \"주식회사 피앤티는 철저한 장인정신과 미래를 개척하는 도전정신으로 감동을 주는 회사, 신뢰를 주는 롤투롤 설비 생산 기업 입니다.\", \"score\": 0.7797419}, {\"title\": \"(주)피엔티 2025년 기업정보 | 직원수, 근무환경, 복리후생 등 - 사람인\", \"url\": \"https://www.saramin.co.kr/zf_user/company-info/view/csn/Zm9qNG9WcGt6dlp0RWxvelMrSnVHUT09/company_nm/(%EC%A3%BC)%ED%94%BC%EC%97%94%ED%8B%B0\", \"content\": \"피엔티는 각종 롤투롤 컨버팅 기계를 주력으로 성장한 회사입니다. 웹가이딩, 장력제어, 오토터렛, 오토스플라이싱, 코팅, 칼렌더링, 슬리팅 등 기반이 되는 기술에 강점\", \"score\": 0.76194656}, {\"title\": \"(주)피엔티 2025년 기업정보 | 직원수, 근무환경, 복리후생 등 - 사람인\", \"url\": \"https://www.saramin.co.kr/zf_user/company-info/view/csn/NEhUcHczZlljRWlhaVdaWkNSNU5vUT09/company_nm/(%EC%A3%BC)%ED%94%BC%EC%97%94%ED%8B%B0?srsltid=AfmBOoobjr1f3Ijz60Cnq67UKw9pfxjNvIAAYShsoHX9e8onbR7jP7eT\", \"content\": \"(주)피엔티 · 기업형태. 중소기업 · 사원수. 12 명 · 설립일. 업력 7년차 2019년 2월 설립 · 브랜드. 주식회사 피엔티 · 주소. 경기 파주시 파주읍 우계로 251-24 복사하기.\", \"score\": 0.7578844}, {\"title\": \"(주)피엔티 | 롤투롤 컨버팅 기계의 세계적인 전문가\", \"url\": \"https://www.epnt.co.kr/\", \"content\": \"피엔티는 각종 롤투롤 컨버팅 기계를 주력으로 성장한 회사입니다. 웹가이딩, 장력제어, 오토터렛, 오토스플라이싱, 코팅, 칼렌더링, 슬리팅 등 기반이 되는 기술에 강점\", \"score\": 0.7476348}, {\"title\": \"2025년 피엔티 채용 기업정보 | 인크루트\", \"url\": \"https://www.incruit.com/company/5453671/\", \"content\": \"기업명(주)피엔티; 기업규모중견기업. 대표자김준섭; 설립일2003년 12월 29일. 매출액 9,889억 3,553만원 (2024); 사원수 595 명 재직중. 평균연봉5,315만원\", \"score\": 0.7451949}, {\"title\": \"피엔티 - 잡코리아\", \"url\": \"https://www.jobkorea.co.kr/company/16151130\", \"content\": \"JOBKOREA\\n\\n고용노동부에서 임금체불이 없고 신용평가등급, 고용유지율, 산업재해율 등의 조건을 고려해 선정한 강소기업입니다.\\n\\n관심기업 추가하고 채용소식 받기\\n\\n㈜피엔티설명\\n\\n2003년 설립\\n\\n사원수\\n\\n기업 형태\\n\\n연 매출액(2020년 기준)\\n\\n㈜피엔티에 입사해야 하는 이유\\n\\n숫자로 보는 기업 HISTORY\\n\\n사업분야\\n\\n1\\n\\n2\\n\\n3\\n\\n기업분석\\n\\n제목 | 날짜 | 출처\\n상세기업정보 / Brief Credit Report (유료) |  | Nice 평가정보\\n기업문화\\n\\n연말성과급 지급\\n\\n건강검진\\n\\n경조사 지원\\n\\n기숙사 운영\\n\\n직원대출제도\\n\\n근무환경\\n\\n인재상\\n\\n주어진 일에 사명감을 가지며 능력에 자만하지 않으며 행동으로 실천하는 사람\\n\\n현실에 안주하지 않으며 미래의 희망을 현실화시키기 위해 실패에 좌절하지 않고 끊임없이 생각하고 도전하는 사람\\n\\n개개인의 힘이 뭉친 인화에 바탕을 둔 조직의 힘이 기업성장의 밑거름임을 알고, 나아가 서로 간의 신뢰와 정을 나눌 수 있는 사람 [...] 채용 프로세스\\n\\n인사담당자의 리얼 인터뷰\\n\\n피엔티 전략기획팀 지연 팀장\\n\\n채용정보\\n\\n접수기간 | 채용제목 | 경력\\n채용정보가 없습니다.\\n오시는길\\n\\n홈페이지 : http://www.epnt.co.kr / 전화번호 : 054-469-6900\\n\\n\\n\\n잡코리아 기타 정보\\n\\n공지사항\\n\\n잡코리아 서비스 링크\\n\\n고객센터\\n\\n© JOBKOREA LLC. All rights reserved.\", \"score\": 0.7050753}, {\"title\": \"피엔티 2025년 기업정보 - 직원수, 근무환경, 복리후생 등 - 잡코리아\", \"url\": \"https://www.jobkorea.co.kr/recruit/co_read/c/pienti1638\", \"content\": \"1984년 국일기업사로 시작한 피엔티는 80년대 오직 수입품에만 의존해오던 핫멜트 시장에 저렴한 가격과 사용이 편리한 핫멜트 제품을 개발하여 고객의 사랑과 함께\", \"score\": 0.6952351}, {\"title\": \"피엔티(주) 2025년 기업정보 - 잡플래닛\", \"url\": \"https://www.jobplanet.co.kr/companies/49426/landing/%ED%94%BC%EC%97%94%ED%8B%B0\", \"content\": \"기업정보 · 대표 김준섭 · 웹사이트 - · 기업형태 - · 본사 경북 구미시 공단2동 270. 설립일 -; 사원수 141명 (2012); 매출액 546억 7\", \"score\": 0.67192334}, {\"title\": \"피엔티 채용 2025년 기업정보 - 평균연봉 5315만원 - 캐치\", \"url\": \"https://www.catch.co.kr/Comp/CompSummary/238016\", \"content\": \"기업 상세정보. 기업규모, 중견기업. 사원수, 565명 (2024.09). 상세업종, 그 외 기타 특수 목적용 기계 제조업. 매출액. 별도 5,162억 (2023.12).\", \"score\": 0.66464967}, {\"title\": \"피엔티(A137400) | Snapshot | 기업정보 - 상장기업분석\", \"url\": \"https://comp.fnguide.com/SVO2/ASP/SVD_Main.asp?pGB=1&gicode=A137400&cID=&MenuYn=Y&ReportGB=B&NewMenuID=Y&stkGb=701\", \"content\": \"매출 호조로 영업이익 대폭 증가. Roll to Roll 기술을 바탕으로 2차전지 전극공정 장비(양극, 음극, 분리막 생산장비)와 Copper(전지박) 및 각종 IT용 소재를 생산\", \"score\": 0.62770075}]\n"
          ]
        },
        {
          "output_type": "error",
          "ename": "ResourceExhausted",
          "evalue": "429 You exceeded your current quota, please check your plan and billing details. For more information on this error, head to: https://ai.google.dev/gemini-api/docs/rate-limits. [violations {\n}\n, links {\n  description: \"Learn more about Gemini API quotas\"\n  url: \"https://ai.google.dev/gemini-api/docs/rate-limits\"\n}\n, retry_delay {\n  seconds: 57\n}\n]",
          "traceback": [
            "\u001b[0;31m---------------------------------------------------------------------------\u001b[0m",
            "\u001b[0;31mResourceExhausted\u001b[0m                         Traceback (most recent call last)",
            "\u001b[0;32m<ipython-input-36-96cfd58f683b>\u001b[0m in \u001b[0;36m<cell line: 0>\u001b[0;34m()\u001b[0m\n\u001b[1;32m      3\u001b[0m \u001b[0mquery\u001b[0m \u001b[0;34m=\u001b[0m \u001b[0;34m\"피엔티라는 회사에 대해 조사해주세요. 잘 정리된 보고서를 제공해주십시오. pdf파일로 받기를 희망합니다.\"\u001b[0m\u001b[0;34m\u001b[0m\u001b[0;34m\u001b[0m\u001b[0m\n\u001b[1;32m      4\u001b[0m \u001b[0;34m\u001b[0m\u001b[0m\n\u001b[0;32m----> 5\u001b[0;31m \u001b[0mstreaming\u001b[0m\u001b[0;34m(\u001b[0m\u001b[0mquery\u001b[0m\u001b[0;34m,\u001b[0m \u001b[0mconfig\u001b[0m\u001b[0;34m)\u001b[0m\u001b[0;34m\u001b[0m\u001b[0;34m\u001b[0m\u001b[0m\n\u001b[0m",
            "\u001b[0;32m<ipython-input-34-0827eb269a4e>\u001b[0m in \u001b[0;36mstreaming\u001b[0;34m(query, config, mode)\u001b[0m\n\u001b[1;32m      9\u001b[0m \u001b[0;34m\u001b[0m\u001b[0m\n\u001b[1;32m     10\u001b[0m     \u001b[0;32mif\u001b[0m \u001b[0mmode\u001b[0m \u001b[0;34m==\u001b[0m \u001b[0;34m\"values\"\u001b[0m\u001b[0;34m:\u001b[0m\u001b[0;34m\u001b[0m\u001b[0;34m\u001b[0m\u001b[0m\n\u001b[0;32m---> 11\u001b[0;31m         \u001b[0;32mfor\u001b[0m \u001b[0mstep\u001b[0m \u001b[0;32min\u001b[0m \u001b[0mresult\u001b[0m\u001b[0;34m:\u001b[0m\u001b[0;34m\u001b[0m\u001b[0;34m\u001b[0m\u001b[0m\n\u001b[0m\u001b[1;32m     12\u001b[0m             \u001b[0;32mfor\u001b[0m \u001b[0mk\u001b[0m\u001b[0;34m,\u001b[0m \u001b[0mv\u001b[0m \u001b[0;32min\u001b[0m \u001b[0mstep\u001b[0m\u001b[0;34m.\u001b[0m\u001b[0mitems\u001b[0m\u001b[0;34m(\u001b[0m\u001b[0;34m)\u001b[0m\u001b[0;34m:\u001b[0m\u001b[0;34m\u001b[0m\u001b[0;34m\u001b[0m\u001b[0m\n\u001b[1;32m     13\u001b[0m                 \u001b[0;32mif\u001b[0m \u001b[0mk\u001b[0m \u001b[0;34m==\u001b[0m \u001b[0;34m\"messages\"\u001b[0m\u001b[0;34m:\u001b[0m\u001b[0;34m\u001b[0m\u001b[0;34m\u001b[0m\u001b[0m\n",
            "\u001b[0;32m/usr/local/lib/python3.11/dist-packages/langgraph/pregel/__init__.py\u001b[0m in \u001b[0;36mstream\u001b[0;34m(self, input, config, stream_mode, output_keys, interrupt_before, interrupt_after, debug, subgraphs)\u001b[0m\n\u001b[1;32m   2338\u001b[0m                 \u001b[0;31m# with channel updates applied only at the transition between steps.\u001b[0m\u001b[0;34m\u001b[0m\u001b[0;34m\u001b[0m\u001b[0m\n\u001b[1;32m   2339\u001b[0m                 \u001b[0;32mwhile\u001b[0m \u001b[0mloop\u001b[0m\u001b[0;34m.\u001b[0m\u001b[0mtick\u001b[0m\u001b[0;34m(\u001b[0m\u001b[0minput_keys\u001b[0m\u001b[0;34m=\u001b[0m\u001b[0mself\u001b[0m\u001b[0;34m.\u001b[0m\u001b[0minput_channels\u001b[0m\u001b[0;34m)\u001b[0m\u001b[0;34m:\u001b[0m\u001b[0;34m\u001b[0m\u001b[0;34m\u001b[0m\u001b[0m\n\u001b[0;32m-> 2340\u001b[0;31m                     for _ in runner.tick(\n\u001b[0m\u001b[1;32m   2341\u001b[0m                         \u001b[0mloop\u001b[0m\u001b[0;34m.\u001b[0m\u001b[0mtasks\u001b[0m\u001b[0;34m.\u001b[0m\u001b[0mvalues\u001b[0m\u001b[0;34m(\u001b[0m\u001b[0;34m)\u001b[0m\u001b[0;34m,\u001b[0m\u001b[0;34m\u001b[0m\u001b[0;34m\u001b[0m\u001b[0m\n\u001b[1;32m   2342\u001b[0m                         \u001b[0mtimeout\u001b[0m\u001b[0;34m=\u001b[0m\u001b[0mself\u001b[0m\u001b[0;34m.\u001b[0m\u001b[0mstep_timeout\u001b[0m\u001b[0;34m,\u001b[0m\u001b[0;34m\u001b[0m\u001b[0;34m\u001b[0m\u001b[0m\n",
            "\u001b[0;32m<ipython-input-23-15ca453ee014>\u001b[0m in \u001b[0;36mselect\u001b[0;34m(state)\u001b[0m\n\u001b[1;32m     27\u001b[0m     \u001b[0mhistory\u001b[0m \u001b[0;34m=\u001b[0m \u001b[0mshorterm_memory\u001b[0m\u001b[0;34m(\u001b[0m\u001b[0mstate\u001b[0m\u001b[0;34m)\u001b[0m\u001b[0;34m\u001b[0m\u001b[0;34m\u001b[0m\u001b[0m\n\u001b[1;32m     28\u001b[0m \u001b[0;34m\u001b[0m\u001b[0m\n\u001b[0;32m---> 29\u001b[0;31m     result = chain.invoke({\"history\" : history,\n\u001b[0m\u001b[1;32m     30\u001b[0m                            \u001b[0;34m\"tool_name\"\u001b[0m \u001b[0;34m:\u001b[0m \u001b[0mstate\u001b[0m\u001b[0;34m[\u001b[0m\u001b[0;34m\"tool_call\"\u001b[0m\u001b[0;34m]\u001b[0m\u001b[0;34m,\u001b[0m\u001b[0;34m\u001b[0m\u001b[0;34m\u001b[0m\u001b[0m\n\u001b[1;32m     31\u001b[0m                             \u001b[0;34m\"answer\"\u001b[0m\u001b[0;34m:\u001b[0m \u001b[0mstate\u001b[0m\u001b[0;34m[\u001b[0m\u001b[0;34m\"answer\"\u001b[0m\u001b[0;34m]\u001b[0m\u001b[0;34m,\u001b[0m\u001b[0;34m\u001b[0m\u001b[0;34m\u001b[0m\u001b[0m\n",
            "\u001b[0;32m/usr/local/lib/python3.11/dist-packages/langchain_core/runnables/base.py\u001b[0m in \u001b[0;36minvoke\u001b[0;34m(self, input, config, **kwargs)\u001b[0m\n\u001b[1;32m   3023\u001b[0m         \u001b[0;32mfrom\u001b[0m \u001b[0mlangchain_core\u001b[0m\u001b[0;34m.\u001b[0m\u001b[0mbeta\u001b[0m\u001b[0;34m.\u001b[0m\u001b[0mrunnables\u001b[0m\u001b[0;34m.\u001b[0m\u001b[0mcontext\u001b[0m \u001b[0;32mimport\u001b[0m \u001b[0mconfig_with_context\u001b[0m\u001b[0;34m\u001b[0m\u001b[0;34m\u001b[0m\u001b[0m\n\u001b[1;32m   3024\u001b[0m \u001b[0;34m\u001b[0m\u001b[0m\n\u001b[0;32m-> 3025\u001b[0;31m         \u001b[0;31m# setup callbacks and context\u001b[0m\u001b[0;34m\u001b[0m\u001b[0;34m\u001b[0m\u001b[0m\n\u001b[0m\u001b[1;32m   3026\u001b[0m         \u001b[0mconfig\u001b[0m \u001b[0;34m=\u001b[0m \u001b[0mconfig_with_context\u001b[0m\u001b[0;34m(\u001b[0m\u001b[0mensure_config\u001b[0m\u001b[0;34m(\u001b[0m\u001b[0mconfig\u001b[0m\u001b[0;34m)\u001b[0m\u001b[0;34m,\u001b[0m \u001b[0mself\u001b[0m\u001b[0;34m.\u001b[0m\u001b[0msteps\u001b[0m\u001b[0;34m)\u001b[0m\u001b[0;34m\u001b[0m\u001b[0;34m\u001b[0m\u001b[0m\n\u001b[1;32m   3027\u001b[0m         \u001b[0mcallback_manager\u001b[0m \u001b[0;34m=\u001b[0m \u001b[0mget_callback_manager_for_config\u001b[0m\u001b[0;34m(\u001b[0m\u001b[0mconfig\u001b[0m\u001b[0;34m)\u001b[0m\u001b[0;34m\u001b[0m\u001b[0;34m\u001b[0m\u001b[0m\n",
            "\u001b[0;32m/usr/local/lib/python3.11/dist-packages/langchain_core/runnables/base.py\u001b[0m in \u001b[0;36minvoke\u001b[0;34m(self, input, config, **kwargs)\u001b[0m\n\u001b[1;32m   5356\u001b[0m             \u001b[0mconfig_factories\u001b[0m\u001b[0;34m=\u001b[0m\u001b[0mconfig_factories\u001b[0m \u001b[0;32mor\u001b[0m \u001b[0;34m[\u001b[0m\u001b[0;34m]\u001b[0m\u001b[0;34m,\u001b[0m\u001b[0;34m\u001b[0m\u001b[0;34m\u001b[0m\u001b[0m\n\u001b[1;32m   5357\u001b[0m             \u001b[0mcustom_input_type\u001b[0m\u001b[0;34m=\u001b[0m\u001b[0mcustom_input_type\u001b[0m\u001b[0;34m,\u001b[0m\u001b[0;34m\u001b[0m\u001b[0;34m\u001b[0m\u001b[0m\n\u001b[0;32m-> 5358\u001b[0;31m             \u001b[0mcustom_output_type\u001b[0m\u001b[0;34m=\u001b[0m\u001b[0mcustom_output_type\u001b[0m\u001b[0;34m,\u001b[0m\u001b[0;34m\u001b[0m\u001b[0;34m\u001b[0m\u001b[0m\n\u001b[0m\u001b[1;32m   5359\u001b[0m             \u001b[0;34m**\u001b[0m\u001b[0mother_kwargs\u001b[0m\u001b[0;34m,\u001b[0m\u001b[0;34m\u001b[0m\u001b[0;34m\u001b[0m\u001b[0m\n\u001b[1;32m   5360\u001b[0m         )\n",
            "\u001b[0;32m/usr/local/lib/python3.11/dist-packages/langchain_google_genai/chat_models.py\u001b[0m in \u001b[0;36minvoke\u001b[0;34m(self, input, config, code_execution, stop, **kwargs)\u001b[0m\n\u001b[1;32m   1020\u001b[0m                 )\n\u001b[1;32m   1021\u001b[0m \u001b[0;34m\u001b[0m\u001b[0m\n\u001b[0;32m-> 1022\u001b[0;31m         \u001b[0;32mreturn\u001b[0m \u001b[0msuper\u001b[0m\u001b[0;34m(\u001b[0m\u001b[0;34m)\u001b[0m\u001b[0;34m.\u001b[0m\u001b[0minvoke\u001b[0m\u001b[0;34m(\u001b[0m\u001b[0minput\u001b[0m\u001b[0;34m,\u001b[0m \u001b[0mconfig\u001b[0m\u001b[0;34m,\u001b[0m \u001b[0mstop\u001b[0m\u001b[0;34m=\u001b[0m\u001b[0mstop\u001b[0m\u001b[0;34m,\u001b[0m \u001b[0;34m**\u001b[0m\u001b[0mkwargs\u001b[0m\u001b[0;34m)\u001b[0m\u001b[0;34m\u001b[0m\u001b[0;34m\u001b[0m\u001b[0m\n\u001b[0m\u001b[1;32m   1023\u001b[0m \u001b[0;34m\u001b[0m\u001b[0m\n\u001b[1;32m   1024\u001b[0m     def _get_ls_params(\n",
            "\u001b[0;32m/usr/local/lib/python3.11/dist-packages/langchain_core/language_models/chat_models.py\u001b[0m in \u001b[0;36minvoke\u001b[0;34m(self, input, config, stop, **kwargs)\u001b[0m\n\u001b[1;32m    305\u001b[0m \u001b[0;34m\u001b[0m\u001b[0m\n\u001b[1;32m    306\u001b[0m     \u001b[0;32mdef\u001b[0m \u001b[0m_convert_input\u001b[0m\u001b[0;34m(\u001b[0m\u001b[0mself\u001b[0m\u001b[0;34m,\u001b[0m \u001b[0minput\u001b[0m\u001b[0;34m:\u001b[0m \u001b[0mLanguageModelInput\u001b[0m\u001b[0;34m)\u001b[0m \u001b[0;34m->\u001b[0m \u001b[0mPromptValue\u001b[0m\u001b[0;34m:\u001b[0m\u001b[0;34m\u001b[0m\u001b[0;34m\u001b[0m\u001b[0m\n\u001b[0;32m--> 307\u001b[0;31m         \u001b[0;32mif\u001b[0m \u001b[0misinstance\u001b[0m\u001b[0;34m(\u001b[0m\u001b[0minput\u001b[0m\u001b[0;34m,\u001b[0m \u001b[0mPromptValue\u001b[0m\u001b[0;34m)\u001b[0m\u001b[0;34m:\u001b[0m\u001b[0;34m\u001b[0m\u001b[0;34m\u001b[0m\u001b[0m\n\u001b[0m\u001b[1;32m    308\u001b[0m             \u001b[0;32mreturn\u001b[0m \u001b[0minput\u001b[0m\u001b[0;34m\u001b[0m\u001b[0;34m\u001b[0m\u001b[0m\n\u001b[1;32m    309\u001b[0m         \u001b[0;32mif\u001b[0m \u001b[0misinstance\u001b[0m\u001b[0;34m(\u001b[0m\u001b[0minput\u001b[0m\u001b[0;34m,\u001b[0m \u001b[0mstr\u001b[0m\u001b[0;34m)\u001b[0m\u001b[0;34m:\u001b[0m\u001b[0;34m\u001b[0m\u001b[0;34m\u001b[0m\u001b[0m\n",
            "\u001b[0;32m/usr/local/lib/python3.11/dist-packages/langchain_core/language_models/chat_models.py\u001b[0m in \u001b[0;36mgenerate_prompt\u001b[0;34m(self, prompts, stop, callbacks, **kwargs)\u001b[0m\n\u001b[1;32m    841\u001b[0m                     \u001b[0mgenerations_with_error_metadata\u001b[0m \u001b[0;34m=\u001b[0m \u001b[0m_generate_response_from_error\u001b[0m\u001b[0;34m(\u001b[0m\u001b[0mres\u001b[0m\u001b[0;34m)\u001b[0m\u001b[0;34m\u001b[0m\u001b[0;34m\u001b[0m\u001b[0m\n\u001b[1;32m    842\u001b[0m                     await run_managers[i].on_llm_error(\n\u001b[0;32m--> 843\u001b[0;31m                         \u001b[0mres\u001b[0m\u001b[0;34m,\u001b[0m\u001b[0;34m\u001b[0m\u001b[0;34m\u001b[0m\u001b[0m\n\u001b[0m\u001b[1;32m    844\u001b[0m                         response=LLMResult(\n\u001b[1;32m    845\u001b[0m                             \u001b[0mgenerations\u001b[0m\u001b[0;34m=\u001b[0m\u001b[0;34m[\u001b[0m\u001b[0mgenerations_with_error_metadata\u001b[0m\u001b[0;34m]\u001b[0m  \u001b[0;31m# type: ignore[list-item]\u001b[0m\u001b[0;34m\u001b[0m\u001b[0;34m\u001b[0m\u001b[0m\n",
            "\u001b[0;32m/usr/local/lib/python3.11/dist-packages/langchain_core/language_models/chat_models.py\u001b[0m in \u001b[0;36mgenerate\u001b[0;34m(self, messages, stop, callbacks, tags, metadata, run_name, run_id, **kwargs)\u001b[0m\n\u001b[1;32m    681\u001b[0m                 \u001b[0mprompt\u001b[0m \u001b[0;32mand\u001b[0m \u001b[0madditional\u001b[0m \u001b[0mmodel\u001b[0m \u001b[0mprovider\u001b[0m\u001b[0;34m-\u001b[0m\u001b[0mspecific\u001b[0m \u001b[0moutput\u001b[0m\u001b[0;34m.\u001b[0m\u001b[0;34m\u001b[0m\u001b[0;34m\u001b[0m\u001b[0m\n\u001b[1;32m    682\u001b[0m         \"\"\"\n\u001b[0;32m--> 683\u001b[0;31m         ls_structured_output_format = kwargs.pop(\n\u001b[0m\u001b[1;32m    684\u001b[0m             \u001b[0;34m\"ls_structured_output_format\"\u001b[0m\u001b[0;34m,\u001b[0m \u001b[0;32mNone\u001b[0m\u001b[0;34m\u001b[0m\u001b[0;34m\u001b[0m\u001b[0m\n\u001b[1;32m    685\u001b[0m         ) or kwargs.pop(\"structured_output_format\", None)\n",
            "\u001b[0;32m/usr/local/lib/python3.11/dist-packages/langchain_core/language_models/chat_models.py\u001b[0m in \u001b[0;36m_generate_with_cache\u001b[0;34m(self, messages, stop, run_manager, **kwargs)\u001b[0m\n\u001b[1;32m    906\u001b[0m             \u001b[0mprompt_messages\u001b[0m\u001b[0;34m,\u001b[0m \u001b[0mstop\u001b[0m\u001b[0;34m=\u001b[0m\u001b[0mstop\u001b[0m\u001b[0;34m,\u001b[0m \u001b[0mcallbacks\u001b[0m\u001b[0;34m=\u001b[0m\u001b[0mcallbacks\u001b[0m\u001b[0;34m,\u001b[0m \u001b[0;34m**\u001b[0m\u001b[0mkwargs\u001b[0m\u001b[0;34m\u001b[0m\u001b[0;34m\u001b[0m\u001b[0m\n\u001b[1;32m    907\u001b[0m         )\n\u001b[0;32m--> 908\u001b[0;31m \u001b[0;34m\u001b[0m\u001b[0m\n\u001b[0m\u001b[1;32m    909\u001b[0m     def _generate_with_cache(\n\u001b[1;32m    910\u001b[0m         \u001b[0mself\u001b[0m\u001b[0;34m,\u001b[0m\u001b[0;34m\u001b[0m\u001b[0;34m\u001b[0m\u001b[0m\n",
            "\u001b[0;32m/usr/local/lib/python3.11/dist-packages/langchain_google_genai/chat_models.py\u001b[0m in \u001b[0;36m_generate\u001b[0;34m(self, messages, stop, run_manager, tools, functions, safety_settings, tool_config, generation_config, cached_content, tool_choice, **kwargs)\u001b[0m\n\u001b[1;32m   1087\u001b[0m             \u001b[0mtool_choice\u001b[0m\u001b[0;34m=\u001b[0m\u001b[0mtool_choice\u001b[0m\u001b[0;34m,\u001b[0m\u001b[0;34m\u001b[0m\u001b[0;34m\u001b[0m\u001b[0m\n\u001b[1;32m   1088\u001b[0m         )\n\u001b[0;32m-> 1089\u001b[0;31m         response: GenerateContentResponse = _chat_with_retry(\n\u001b[0m\u001b[1;32m   1090\u001b[0m             \u001b[0mrequest\u001b[0m\u001b[0;34m=\u001b[0m\u001b[0mrequest\u001b[0m\u001b[0;34m,\u001b[0m\u001b[0;34m\u001b[0m\u001b[0;34m\u001b[0m\u001b[0m\n\u001b[1;32m   1091\u001b[0m             \u001b[0;34m**\u001b[0m\u001b[0mkwargs\u001b[0m\u001b[0;34m,\u001b[0m\u001b[0;34m\u001b[0m\u001b[0;34m\u001b[0m\u001b[0m\n",
            "\u001b[0;32m/usr/local/lib/python3.11/dist-packages/langchain_google_genai/chat_models.py\u001b[0m in \u001b[0;36m_chat_with_retry\u001b[0;34m(generation_method, **kwargs)\u001b[0m\n\u001b[1;32m    204\u001b[0m             \u001b[0;32mraise\u001b[0m \u001b[0me\u001b[0m\u001b[0;34m\u001b[0m\u001b[0;34m\u001b[0m\u001b[0m\n\u001b[1;32m    205\u001b[0m \u001b[0;34m\u001b[0m\u001b[0m\n\u001b[0;32m--> 206\u001b[0;31m     \u001b[0;32mreturn\u001b[0m \u001b[0m_chat_with_retry\u001b[0m\u001b[0;34m(\u001b[0m\u001b[0;34m**\u001b[0m\u001b[0mkwargs\u001b[0m\u001b[0;34m)\u001b[0m\u001b[0;34m\u001b[0m\u001b[0;34m\u001b[0m\u001b[0m\n\u001b[0m\u001b[1;32m    207\u001b[0m \u001b[0;34m\u001b[0m\u001b[0m\n\u001b[1;32m    208\u001b[0m \u001b[0;34m\u001b[0m\u001b[0m\n",
            "\u001b[0;32m/usr/local/lib/python3.11/dist-packages/tenacity/__init__.py\u001b[0m in \u001b[0;36mwrapped_f\u001b[0;34m(*args, **kw)\u001b[0m\n\u001b[1;32m    336\u001b[0m             \u001b[0mcopy\u001b[0m \u001b[0;34m=\u001b[0m \u001b[0mself\u001b[0m\u001b[0;34m.\u001b[0m\u001b[0mcopy\u001b[0m\u001b[0;34m(\u001b[0m\u001b[0;34m)\u001b[0m\u001b[0;34m\u001b[0m\u001b[0;34m\u001b[0m\u001b[0m\n\u001b[1;32m    337\u001b[0m             \u001b[0mwrapped_f\u001b[0m\u001b[0;34m.\u001b[0m\u001b[0mstatistics\u001b[0m \u001b[0;34m=\u001b[0m \u001b[0mcopy\u001b[0m\u001b[0;34m.\u001b[0m\u001b[0mstatistics\u001b[0m  \u001b[0;31m# type: ignore[attr-defined]\u001b[0m\u001b[0;34m\u001b[0m\u001b[0;34m\u001b[0m\u001b[0m\n\u001b[0;32m--> 338\u001b[0;31m             \u001b[0;32mreturn\u001b[0m \u001b[0mcopy\u001b[0m\u001b[0;34m(\u001b[0m\u001b[0mf\u001b[0m\u001b[0;34m,\u001b[0m \u001b[0;34m*\u001b[0m\u001b[0margs\u001b[0m\u001b[0;34m,\u001b[0m \u001b[0;34m**\u001b[0m\u001b[0mkw\u001b[0m\u001b[0;34m)\u001b[0m\u001b[0;34m\u001b[0m\u001b[0;34m\u001b[0m\u001b[0m\n\u001b[0m\u001b[1;32m    339\u001b[0m \u001b[0;34m\u001b[0m\u001b[0m\n\u001b[1;32m    340\u001b[0m         \u001b[0;32mdef\u001b[0m \u001b[0mretry_with\u001b[0m\u001b[0;34m(\u001b[0m\u001b[0;34m*\u001b[0m\u001b[0margs\u001b[0m\u001b[0;34m:\u001b[0m \u001b[0mt\u001b[0m\u001b[0;34m.\u001b[0m\u001b[0mAny\u001b[0m\u001b[0;34m,\u001b[0m \u001b[0;34m**\u001b[0m\u001b[0mkwargs\u001b[0m\u001b[0;34m:\u001b[0m \u001b[0mt\u001b[0m\u001b[0;34m.\u001b[0m\u001b[0mAny\u001b[0m\u001b[0;34m)\u001b[0m \u001b[0;34m->\u001b[0m \u001b[0mWrappedFn\u001b[0m\u001b[0;34m:\u001b[0m\u001b[0;34m\u001b[0m\u001b[0;34m\u001b[0m\u001b[0m\n",
            "\u001b[0;32m/usr/local/lib/python3.11/dist-packages/tenacity/__init__.py\u001b[0m in \u001b[0;36m__call__\u001b[0;34m(self, fn, *args, **kwargs)\u001b[0m\n\u001b[1;32m    475\u001b[0m         \u001b[0mretry_state\u001b[0m \u001b[0;34m=\u001b[0m \u001b[0mRetryCallState\u001b[0m\u001b[0;34m(\u001b[0m\u001b[0mretry_object\u001b[0m\u001b[0;34m=\u001b[0m\u001b[0mself\u001b[0m\u001b[0;34m,\u001b[0m \u001b[0mfn\u001b[0m\u001b[0;34m=\u001b[0m\u001b[0mfn\u001b[0m\u001b[0;34m,\u001b[0m \u001b[0margs\u001b[0m\u001b[0;34m=\u001b[0m\u001b[0margs\u001b[0m\u001b[0;34m,\u001b[0m \u001b[0mkwargs\u001b[0m\u001b[0;34m=\u001b[0m\u001b[0mkwargs\u001b[0m\u001b[0;34m)\u001b[0m\u001b[0;34m\u001b[0m\u001b[0;34m\u001b[0m\u001b[0m\n\u001b[1;32m    476\u001b[0m         \u001b[0;32mwhile\u001b[0m \u001b[0;32mTrue\u001b[0m\u001b[0;34m:\u001b[0m\u001b[0;34m\u001b[0m\u001b[0;34m\u001b[0m\u001b[0m\n\u001b[0;32m--> 477\u001b[0;31m             \u001b[0mdo\u001b[0m \u001b[0;34m=\u001b[0m \u001b[0mself\u001b[0m\u001b[0;34m.\u001b[0m\u001b[0miter\u001b[0m\u001b[0;34m(\u001b[0m\u001b[0mretry_state\u001b[0m\u001b[0;34m=\u001b[0m\u001b[0mretry_state\u001b[0m\u001b[0;34m)\u001b[0m\u001b[0;34m\u001b[0m\u001b[0;34m\u001b[0m\u001b[0m\n\u001b[0m\u001b[1;32m    478\u001b[0m             \u001b[0;32mif\u001b[0m \u001b[0misinstance\u001b[0m\u001b[0;34m(\u001b[0m\u001b[0mdo\u001b[0m\u001b[0;34m,\u001b[0m \u001b[0mDoAttempt\u001b[0m\u001b[0;34m)\u001b[0m\u001b[0;34m:\u001b[0m\u001b[0;34m\u001b[0m\u001b[0;34m\u001b[0m\u001b[0m\n\u001b[1;32m    479\u001b[0m                 \u001b[0;32mtry\u001b[0m\u001b[0;34m:\u001b[0m\u001b[0;34m\u001b[0m\u001b[0;34m\u001b[0m\u001b[0m\n",
            "\u001b[0;32m/usr/local/lib/python3.11/dist-packages/tenacity/__init__.py\u001b[0m in \u001b[0;36miter\u001b[0;34m(self, retry_state)\u001b[0m\n\u001b[1;32m    376\u001b[0m         \u001b[0mresult\u001b[0m \u001b[0;34m=\u001b[0m \u001b[0;32mNone\u001b[0m\u001b[0;34m\u001b[0m\u001b[0;34m\u001b[0m\u001b[0m\n\u001b[1;32m    377\u001b[0m         \u001b[0;32mfor\u001b[0m \u001b[0maction\u001b[0m \u001b[0;32min\u001b[0m \u001b[0mself\u001b[0m\u001b[0;34m.\u001b[0m\u001b[0miter_state\u001b[0m\u001b[0;34m.\u001b[0m\u001b[0mactions\u001b[0m\u001b[0;34m:\u001b[0m\u001b[0;34m\u001b[0m\u001b[0;34m\u001b[0m\u001b[0m\n\u001b[0;32m--> 378\u001b[0;31m             \u001b[0mresult\u001b[0m \u001b[0;34m=\u001b[0m \u001b[0maction\u001b[0m\u001b[0;34m(\u001b[0m\u001b[0mretry_state\u001b[0m\u001b[0;34m)\u001b[0m\u001b[0;34m\u001b[0m\u001b[0;34m\u001b[0m\u001b[0m\n\u001b[0m\u001b[1;32m    379\u001b[0m         \u001b[0;32mreturn\u001b[0m \u001b[0mresult\u001b[0m\u001b[0;34m\u001b[0m\u001b[0;34m\u001b[0m\u001b[0m\n\u001b[1;32m    380\u001b[0m \u001b[0;34m\u001b[0m\u001b[0m\n",
            "\u001b[0;32m/usr/local/lib/python3.11/dist-packages/tenacity/__init__.py\u001b[0m in \u001b[0;36mexc_check\u001b[0;34m(rs)\u001b[0m\n\u001b[1;32m    418\u001b[0m                 \u001b[0mretry_exc\u001b[0m \u001b[0;34m=\u001b[0m \u001b[0mself\u001b[0m\u001b[0;34m.\u001b[0m\u001b[0mretry_error_cls\u001b[0m\u001b[0;34m(\u001b[0m\u001b[0mfut\u001b[0m\u001b[0;34m)\u001b[0m\u001b[0;34m\u001b[0m\u001b[0;34m\u001b[0m\u001b[0m\n\u001b[1;32m    419\u001b[0m                 \u001b[0;32mif\u001b[0m \u001b[0mself\u001b[0m\u001b[0;34m.\u001b[0m\u001b[0mreraise\u001b[0m\u001b[0;34m:\u001b[0m\u001b[0;34m\u001b[0m\u001b[0;34m\u001b[0m\u001b[0m\n\u001b[0;32m--> 420\u001b[0;31m                     \u001b[0;32mraise\u001b[0m \u001b[0mretry_exc\u001b[0m\u001b[0;34m.\u001b[0m\u001b[0mreraise\u001b[0m\u001b[0;34m(\u001b[0m\u001b[0;34m)\u001b[0m\u001b[0;34m\u001b[0m\u001b[0;34m\u001b[0m\u001b[0m\n\u001b[0m\u001b[1;32m    421\u001b[0m                 \u001b[0;32mraise\u001b[0m \u001b[0mretry_exc\u001b[0m \u001b[0;32mfrom\u001b[0m \u001b[0mfut\u001b[0m\u001b[0;34m.\u001b[0m\u001b[0mexception\u001b[0m\u001b[0;34m(\u001b[0m\u001b[0;34m)\u001b[0m\u001b[0;34m\u001b[0m\u001b[0;34m\u001b[0m\u001b[0m\n\u001b[1;32m    422\u001b[0m \u001b[0;34m\u001b[0m\u001b[0m\n",
            "\u001b[0;32m/usr/local/lib/python3.11/dist-packages/tenacity/__init__.py\u001b[0m in \u001b[0;36mreraise\u001b[0;34m(self)\u001b[0m\n\u001b[1;32m    185\u001b[0m     \u001b[0;32mdef\u001b[0m \u001b[0mreraise\u001b[0m\u001b[0;34m(\u001b[0m\u001b[0mself\u001b[0m\u001b[0;34m)\u001b[0m \u001b[0;34m->\u001b[0m \u001b[0mt\u001b[0m\u001b[0;34m.\u001b[0m\u001b[0mNoReturn\u001b[0m\u001b[0;34m:\u001b[0m\u001b[0;34m\u001b[0m\u001b[0;34m\u001b[0m\u001b[0m\n\u001b[1;32m    186\u001b[0m         \u001b[0;32mif\u001b[0m \u001b[0mself\u001b[0m\u001b[0;34m.\u001b[0m\u001b[0mlast_attempt\u001b[0m\u001b[0;34m.\u001b[0m\u001b[0mfailed\u001b[0m\u001b[0;34m:\u001b[0m\u001b[0;34m\u001b[0m\u001b[0;34m\u001b[0m\u001b[0m\n\u001b[0;32m--> 187\u001b[0;31m             \u001b[0;32mraise\u001b[0m \u001b[0mself\u001b[0m\u001b[0;34m.\u001b[0m\u001b[0mlast_attempt\u001b[0m\u001b[0;34m.\u001b[0m\u001b[0mresult\u001b[0m\u001b[0;34m(\u001b[0m\u001b[0;34m)\u001b[0m\u001b[0;34m\u001b[0m\u001b[0;34m\u001b[0m\u001b[0m\n\u001b[0m\u001b[1;32m    188\u001b[0m         \u001b[0;32mraise\u001b[0m \u001b[0mself\u001b[0m\u001b[0;34m\u001b[0m\u001b[0;34m\u001b[0m\u001b[0m\n\u001b[1;32m    189\u001b[0m \u001b[0;34m\u001b[0m\u001b[0m\n",
            "\u001b[0;32m/usr/lib/python3.11/concurrent/futures/_base.py\u001b[0m in \u001b[0;36mresult\u001b[0;34m(self, timeout)\u001b[0m\n\u001b[1;32m    447\u001b[0m                     \u001b[0;32mraise\u001b[0m \u001b[0mCancelledError\u001b[0m\u001b[0;34m(\u001b[0m\u001b[0;34m)\u001b[0m\u001b[0;34m\u001b[0m\u001b[0;34m\u001b[0m\u001b[0m\n\u001b[1;32m    448\u001b[0m                 \u001b[0;32melif\u001b[0m \u001b[0mself\u001b[0m\u001b[0;34m.\u001b[0m\u001b[0m_state\u001b[0m \u001b[0;34m==\u001b[0m \u001b[0mFINISHED\u001b[0m\u001b[0;34m:\u001b[0m\u001b[0;34m\u001b[0m\u001b[0;34m\u001b[0m\u001b[0m\n\u001b[0;32m--> 449\u001b[0;31m                     \u001b[0;32mreturn\u001b[0m \u001b[0mself\u001b[0m\u001b[0;34m.\u001b[0m\u001b[0m__get_result\u001b[0m\u001b[0;34m(\u001b[0m\u001b[0;34m)\u001b[0m\u001b[0;34m\u001b[0m\u001b[0;34m\u001b[0m\u001b[0m\n\u001b[0m\u001b[1;32m    450\u001b[0m \u001b[0;34m\u001b[0m\u001b[0m\n\u001b[1;32m    451\u001b[0m                 \u001b[0mself\u001b[0m\u001b[0;34m.\u001b[0m\u001b[0m_condition\u001b[0m\u001b[0;34m.\u001b[0m\u001b[0mwait\u001b[0m\u001b[0;34m(\u001b[0m\u001b[0mtimeout\u001b[0m\u001b[0;34m)\u001b[0m\u001b[0;34m\u001b[0m\u001b[0;34m\u001b[0m\u001b[0m\n",
            "\u001b[0;32m/usr/lib/python3.11/concurrent/futures/_base.py\u001b[0m in \u001b[0;36m__get_result\u001b[0;34m(self)\u001b[0m\n\u001b[1;32m    399\u001b[0m         \u001b[0;32mif\u001b[0m \u001b[0mself\u001b[0m\u001b[0;34m.\u001b[0m\u001b[0m_exception\u001b[0m\u001b[0;34m:\u001b[0m\u001b[0;34m\u001b[0m\u001b[0;34m\u001b[0m\u001b[0m\n\u001b[1;32m    400\u001b[0m             \u001b[0;32mtry\u001b[0m\u001b[0;34m:\u001b[0m\u001b[0;34m\u001b[0m\u001b[0;34m\u001b[0m\u001b[0m\n\u001b[0;32m--> 401\u001b[0;31m                 \u001b[0;32mraise\u001b[0m \u001b[0mself\u001b[0m\u001b[0;34m.\u001b[0m\u001b[0m_exception\u001b[0m\u001b[0;34m\u001b[0m\u001b[0;34m\u001b[0m\u001b[0m\n\u001b[0m\u001b[1;32m    402\u001b[0m             \u001b[0;32mfinally\u001b[0m\u001b[0;34m:\u001b[0m\u001b[0;34m\u001b[0m\u001b[0;34m\u001b[0m\u001b[0m\n\u001b[1;32m    403\u001b[0m                 \u001b[0;31m# Break a reference cycle with the exception in self._exception\u001b[0m\u001b[0;34m\u001b[0m\u001b[0;34m\u001b[0m\u001b[0m\n",
            "\u001b[0;32m/usr/local/lib/python3.11/dist-packages/tenacity/__init__.py\u001b[0m in \u001b[0;36m__call__\u001b[0;34m(self, fn, *args, **kwargs)\u001b[0m\n\u001b[1;32m    478\u001b[0m             \u001b[0;32mif\u001b[0m \u001b[0misinstance\u001b[0m\u001b[0;34m(\u001b[0m\u001b[0mdo\u001b[0m\u001b[0;34m,\u001b[0m \u001b[0mDoAttempt\u001b[0m\u001b[0;34m)\u001b[0m\u001b[0;34m:\u001b[0m\u001b[0;34m\u001b[0m\u001b[0;34m\u001b[0m\u001b[0m\n\u001b[1;32m    479\u001b[0m                 \u001b[0;32mtry\u001b[0m\u001b[0;34m:\u001b[0m\u001b[0;34m\u001b[0m\u001b[0;34m\u001b[0m\u001b[0m\n\u001b[0;32m--> 480\u001b[0;31m                     \u001b[0mresult\u001b[0m \u001b[0;34m=\u001b[0m \u001b[0mfn\u001b[0m\u001b[0;34m(\u001b[0m\u001b[0;34m*\u001b[0m\u001b[0margs\u001b[0m\u001b[0;34m,\u001b[0m \u001b[0;34m**\u001b[0m\u001b[0mkwargs\u001b[0m\u001b[0;34m)\u001b[0m\u001b[0;34m\u001b[0m\u001b[0;34m\u001b[0m\u001b[0m\n\u001b[0m\u001b[1;32m    481\u001b[0m                 \u001b[0;32mexcept\u001b[0m \u001b[0mBaseException\u001b[0m\u001b[0;34m:\u001b[0m  \u001b[0;31m# noqa: B902\u001b[0m\u001b[0;34m\u001b[0m\u001b[0;34m\u001b[0m\u001b[0m\n\u001b[1;32m    482\u001b[0m                     \u001b[0mretry_state\u001b[0m\u001b[0;34m.\u001b[0m\u001b[0mset_exception\u001b[0m\u001b[0;34m(\u001b[0m\u001b[0msys\u001b[0m\u001b[0;34m.\u001b[0m\u001b[0mexc_info\u001b[0m\u001b[0;34m(\u001b[0m\u001b[0;34m)\u001b[0m\u001b[0;34m)\u001b[0m  \u001b[0;31m# type: ignore[arg-type]\u001b[0m\u001b[0;34m\u001b[0m\u001b[0;34m\u001b[0m\u001b[0m\n",
            "\u001b[0;32m/usr/local/lib/python3.11/dist-packages/langchain_google_genai/chat_models.py\u001b[0m in \u001b[0;36m_chat_with_retry\u001b[0;34m(**kwargs)\u001b[0m\n\u001b[1;32m    202\u001b[0m             ) from e\n\u001b[1;32m    203\u001b[0m         \u001b[0;32mexcept\u001b[0m \u001b[0mException\u001b[0m \u001b[0;32mas\u001b[0m \u001b[0me\u001b[0m\u001b[0;34m:\u001b[0m\u001b[0;34m\u001b[0m\u001b[0;34m\u001b[0m\u001b[0m\n\u001b[0;32m--> 204\u001b[0;31m             \u001b[0;32mraise\u001b[0m \u001b[0me\u001b[0m\u001b[0;34m\u001b[0m\u001b[0;34m\u001b[0m\u001b[0m\n\u001b[0m\u001b[1;32m    205\u001b[0m \u001b[0;34m\u001b[0m\u001b[0m\n\u001b[1;32m    206\u001b[0m     \u001b[0;32mreturn\u001b[0m \u001b[0m_chat_with_retry\u001b[0m\u001b[0;34m(\u001b[0m\u001b[0;34m**\u001b[0m\u001b[0mkwargs\u001b[0m\u001b[0;34m)\u001b[0m\u001b[0;34m\u001b[0m\u001b[0;34m\u001b[0m\u001b[0m\n",
            "\u001b[0;32m/usr/local/lib/python3.11/dist-packages/langchain_google_genai/chat_models.py\u001b[0m in \u001b[0;36m_chat_with_retry\u001b[0;34m(**kwargs)\u001b[0m\n\u001b[1;32m    186\u001b[0m     \u001b[0;32mdef\u001b[0m \u001b[0m_chat_with_retry\u001b[0m\u001b[0;34m(\u001b[0m\u001b[0;34m**\u001b[0m\u001b[0mkwargs\u001b[0m\u001b[0;34m:\u001b[0m \u001b[0mAny\u001b[0m\u001b[0;34m)\u001b[0m \u001b[0;34m->\u001b[0m \u001b[0mAny\u001b[0m\u001b[0;34m:\u001b[0m\u001b[0;34m\u001b[0m\u001b[0;34m\u001b[0m\u001b[0m\n\u001b[1;32m    187\u001b[0m         \u001b[0;32mtry\u001b[0m\u001b[0;34m:\u001b[0m\u001b[0;34m\u001b[0m\u001b[0;34m\u001b[0m\u001b[0m\n\u001b[0;32m--> 188\u001b[0;31m             \u001b[0;32mreturn\u001b[0m \u001b[0mgeneration_method\u001b[0m\u001b[0;34m(\u001b[0m\u001b[0;34m**\u001b[0m\u001b[0mkwargs\u001b[0m\u001b[0;34m)\u001b[0m\u001b[0;34m\u001b[0m\u001b[0;34m\u001b[0m\u001b[0m\n\u001b[0m\u001b[1;32m    189\u001b[0m         \u001b[0;31m# Do not retry for these errors.\u001b[0m\u001b[0;34m\u001b[0m\u001b[0;34m\u001b[0m\u001b[0m\n\u001b[1;32m    190\u001b[0m         \u001b[0;32mexcept\u001b[0m \u001b[0mgoogle\u001b[0m\u001b[0;34m.\u001b[0m\u001b[0mapi_core\u001b[0m\u001b[0;34m.\u001b[0m\u001b[0mexceptions\u001b[0m\u001b[0;34m.\u001b[0m\u001b[0mFailedPrecondition\u001b[0m \u001b[0;32mas\u001b[0m \u001b[0mexc\u001b[0m\u001b[0;34m:\u001b[0m\u001b[0;34m\u001b[0m\u001b[0;34m\u001b[0m\u001b[0m\n",
            "\u001b[0;32m/usr/local/lib/python3.11/dist-packages/google/ai/generativelanguage_v1beta/services/generative_service/client.py\u001b[0m in \u001b[0;36mgenerate_content\u001b[0;34m(self, request, model, contents, retry, timeout, metadata)\u001b[0m\n\u001b[1;32m    865\u001b[0m \u001b[0;34m\u001b[0m\u001b[0m\n\u001b[1;32m    866\u001b[0m         \u001b[0;31m# Send the request.\u001b[0m\u001b[0;34m\u001b[0m\u001b[0;34m\u001b[0m\u001b[0m\n\u001b[0;32m--> 867\u001b[0;31m         response = rpc(\n\u001b[0m\u001b[1;32m    868\u001b[0m             \u001b[0mrequest\u001b[0m\u001b[0;34m,\u001b[0m\u001b[0;34m\u001b[0m\u001b[0;34m\u001b[0m\u001b[0m\n\u001b[1;32m    869\u001b[0m             \u001b[0mretry\u001b[0m\u001b[0;34m=\u001b[0m\u001b[0mretry\u001b[0m\u001b[0;34m,\u001b[0m\u001b[0;34m\u001b[0m\u001b[0;34m\u001b[0m\u001b[0m\n",
            "\u001b[0;32m/usr/local/lib/python3.11/dist-packages/google/api_core/gapic_v1/method.py\u001b[0m in \u001b[0;36m__call__\u001b[0;34m(self, timeout, retry, compression, *args, **kwargs)\u001b[0m\n\u001b[1;32m    129\u001b[0m             \u001b[0mkwargs\u001b[0m\u001b[0;34m[\u001b[0m\u001b[0;34m\"compression\"\u001b[0m\u001b[0;34m]\u001b[0m \u001b[0;34m=\u001b[0m \u001b[0mcompression\u001b[0m\u001b[0;34m\u001b[0m\u001b[0;34m\u001b[0m\u001b[0m\n\u001b[1;32m    130\u001b[0m \u001b[0;34m\u001b[0m\u001b[0m\n\u001b[0;32m--> 131\u001b[0;31m         \u001b[0;32mreturn\u001b[0m \u001b[0mwrapped_func\u001b[0m\u001b[0;34m(\u001b[0m\u001b[0;34m*\u001b[0m\u001b[0margs\u001b[0m\u001b[0;34m,\u001b[0m \u001b[0;34m**\u001b[0m\u001b[0mkwargs\u001b[0m\u001b[0;34m)\u001b[0m\u001b[0;34m\u001b[0m\u001b[0;34m\u001b[0m\u001b[0m\n\u001b[0m\u001b[1;32m    132\u001b[0m \u001b[0;34m\u001b[0m\u001b[0m\n\u001b[1;32m    133\u001b[0m \u001b[0;34m\u001b[0m\u001b[0m\n",
            "\u001b[0;32m/usr/local/lib/python3.11/dist-packages/google/api_core/retry/retry_unary.py\u001b[0m in \u001b[0;36mretry_wrapped_func\u001b[0;34m(*args, **kwargs)\u001b[0m\n\u001b[1;32m    291\u001b[0m                 \u001b[0mself\u001b[0m\u001b[0;34m.\u001b[0m\u001b[0m_initial\u001b[0m\u001b[0;34m,\u001b[0m \u001b[0mself\u001b[0m\u001b[0;34m.\u001b[0m\u001b[0m_maximum\u001b[0m\u001b[0;34m,\u001b[0m \u001b[0mmultiplier\u001b[0m\u001b[0;34m=\u001b[0m\u001b[0mself\u001b[0m\u001b[0;34m.\u001b[0m\u001b[0m_multiplier\u001b[0m\u001b[0;34m\u001b[0m\u001b[0;34m\u001b[0m\u001b[0m\n\u001b[1;32m    292\u001b[0m             )\n\u001b[0;32m--> 293\u001b[0;31m             return retry_target(\n\u001b[0m\u001b[1;32m    294\u001b[0m                 \u001b[0mtarget\u001b[0m\u001b[0;34m,\u001b[0m\u001b[0;34m\u001b[0m\u001b[0;34m\u001b[0m\u001b[0m\n\u001b[1;32m    295\u001b[0m                 \u001b[0mself\u001b[0m\u001b[0;34m.\u001b[0m\u001b[0m_predicate\u001b[0m\u001b[0;34m,\u001b[0m\u001b[0;34m\u001b[0m\u001b[0;34m\u001b[0m\u001b[0m\n",
            "\u001b[0;32m/usr/local/lib/python3.11/dist-packages/google/api_core/retry/retry_unary.py\u001b[0m in \u001b[0;36mretry_target\u001b[0;34m(target, predicate, sleep_generator, timeout, on_error, exception_factory, **kwargs)\u001b[0m\n\u001b[1;32m    151\u001b[0m         \u001b[0;32mexcept\u001b[0m \u001b[0mException\u001b[0m \u001b[0;32mas\u001b[0m \u001b[0mexc\u001b[0m\u001b[0;34m:\u001b[0m\u001b[0;34m\u001b[0m\u001b[0;34m\u001b[0m\u001b[0m\n\u001b[1;32m    152\u001b[0m             \u001b[0;31m# defer to shared logic for handling errors\u001b[0m\u001b[0;34m\u001b[0m\u001b[0;34m\u001b[0m\u001b[0m\n\u001b[0;32m--> 153\u001b[0;31m             _retry_error_helper(\n\u001b[0m\u001b[1;32m    154\u001b[0m                 \u001b[0mexc\u001b[0m\u001b[0;34m,\u001b[0m\u001b[0;34m\u001b[0m\u001b[0;34m\u001b[0m\u001b[0m\n\u001b[1;32m    155\u001b[0m                 \u001b[0mdeadline\u001b[0m\u001b[0;34m,\u001b[0m\u001b[0;34m\u001b[0m\u001b[0;34m\u001b[0m\u001b[0m\n",
            "\u001b[0;32m/usr/local/lib/python3.11/dist-packages/google/api_core/retry/retry_base.py\u001b[0m in \u001b[0;36m_retry_error_helper\u001b[0;34m(exc, deadline, next_sleep, error_list, predicate_fn, on_error_fn, exc_factory_fn, original_timeout)\u001b[0m\n\u001b[1;32m    210\u001b[0m             \u001b[0moriginal_timeout\u001b[0m\u001b[0;34m,\u001b[0m\u001b[0;34m\u001b[0m\u001b[0;34m\u001b[0m\u001b[0m\n\u001b[1;32m    211\u001b[0m         )\n\u001b[0;32m--> 212\u001b[0;31m         \u001b[0;32mraise\u001b[0m \u001b[0mfinal_exc\u001b[0m \u001b[0;32mfrom\u001b[0m \u001b[0msource_exc\u001b[0m\u001b[0;34m\u001b[0m\u001b[0;34m\u001b[0m\u001b[0m\n\u001b[0m\u001b[1;32m    213\u001b[0m     \u001b[0;32mif\u001b[0m \u001b[0mon_error_fn\u001b[0m \u001b[0;32mis\u001b[0m \u001b[0;32mnot\u001b[0m \u001b[0;32mNone\u001b[0m\u001b[0;34m:\u001b[0m\u001b[0;34m\u001b[0m\u001b[0;34m\u001b[0m\u001b[0m\n\u001b[1;32m    214\u001b[0m         \u001b[0mon_error_fn\u001b[0m\u001b[0;34m(\u001b[0m\u001b[0mexc\u001b[0m\u001b[0;34m)\u001b[0m\u001b[0;34m\u001b[0m\u001b[0;34m\u001b[0m\u001b[0m\n",
            "\u001b[0;32m/usr/local/lib/python3.11/dist-packages/google/api_core/retry/retry_unary.py\u001b[0m in \u001b[0;36mretry_target\u001b[0;34m(target, predicate, sleep_generator, timeout, on_error, exception_factory, **kwargs)\u001b[0m\n\u001b[1;32m    142\u001b[0m     \u001b[0;32mfor\u001b[0m \u001b[0msleep\u001b[0m \u001b[0;32min\u001b[0m \u001b[0msleep_generator\u001b[0m\u001b[0;34m:\u001b[0m\u001b[0;34m\u001b[0m\u001b[0;34m\u001b[0m\u001b[0m\n\u001b[1;32m    143\u001b[0m         \u001b[0;32mtry\u001b[0m\u001b[0;34m:\u001b[0m\u001b[0;34m\u001b[0m\u001b[0;34m\u001b[0m\u001b[0m\n\u001b[0;32m--> 144\u001b[0;31m             \u001b[0mresult\u001b[0m \u001b[0;34m=\u001b[0m \u001b[0mtarget\u001b[0m\u001b[0;34m(\u001b[0m\u001b[0;34m)\u001b[0m\u001b[0;34m\u001b[0m\u001b[0;34m\u001b[0m\u001b[0m\n\u001b[0m\u001b[1;32m    145\u001b[0m             \u001b[0;32mif\u001b[0m \u001b[0minspect\u001b[0m\u001b[0;34m.\u001b[0m\u001b[0misawaitable\u001b[0m\u001b[0;34m(\u001b[0m\u001b[0mresult\u001b[0m\u001b[0;34m)\u001b[0m\u001b[0;34m:\u001b[0m\u001b[0;34m\u001b[0m\u001b[0;34m\u001b[0m\u001b[0m\n\u001b[1;32m    146\u001b[0m                 \u001b[0mwarnings\u001b[0m\u001b[0;34m.\u001b[0m\u001b[0mwarn\u001b[0m\u001b[0;34m(\u001b[0m\u001b[0m_ASYNC_RETRY_WARNING\u001b[0m\u001b[0;34m)\u001b[0m\u001b[0;34m\u001b[0m\u001b[0;34m\u001b[0m\u001b[0m\n",
            "\u001b[0;32m/usr/local/lib/python3.11/dist-packages/google/api_core/timeout.py\u001b[0m in \u001b[0;36mfunc_with_timeout\u001b[0;34m(*args, **kwargs)\u001b[0m\n\u001b[1;32m    128\u001b[0m                 \u001b[0mkwargs\u001b[0m\u001b[0;34m[\u001b[0m\u001b[0;34m\"timeout\"\u001b[0m\u001b[0;34m]\u001b[0m \u001b[0;34m=\u001b[0m \u001b[0mremaining_timeout\u001b[0m\u001b[0;34m\u001b[0m\u001b[0;34m\u001b[0m\u001b[0m\n\u001b[1;32m    129\u001b[0m \u001b[0;34m\u001b[0m\u001b[0m\n\u001b[0;32m--> 130\u001b[0;31m             \u001b[0;32mreturn\u001b[0m \u001b[0mfunc\u001b[0m\u001b[0;34m(\u001b[0m\u001b[0;34m*\u001b[0m\u001b[0margs\u001b[0m\u001b[0;34m,\u001b[0m \u001b[0;34m**\u001b[0m\u001b[0mkwargs\u001b[0m\u001b[0;34m)\u001b[0m\u001b[0;34m\u001b[0m\u001b[0;34m\u001b[0m\u001b[0m\n\u001b[0m\u001b[1;32m    131\u001b[0m \u001b[0;34m\u001b[0m\u001b[0m\n\u001b[1;32m    132\u001b[0m         \u001b[0;32mreturn\u001b[0m \u001b[0mfunc_with_timeout\u001b[0m\u001b[0;34m\u001b[0m\u001b[0;34m\u001b[0m\u001b[0m\n",
            "\u001b[0;32m/usr/local/lib/python3.11/dist-packages/google/api_core/grpc_helpers.py\u001b[0m in \u001b[0;36merror_remapped_callable\u001b[0;34m(*args, **kwargs)\u001b[0m\n\u001b[1;32m     76\u001b[0m             \u001b[0;32mreturn\u001b[0m \u001b[0mcallable_\u001b[0m\u001b[0;34m(\u001b[0m\u001b[0;34m*\u001b[0m\u001b[0margs\u001b[0m\u001b[0;34m,\u001b[0m \u001b[0;34m**\u001b[0m\u001b[0mkwargs\u001b[0m\u001b[0;34m)\u001b[0m\u001b[0;34m\u001b[0m\u001b[0;34m\u001b[0m\u001b[0m\n\u001b[1;32m     77\u001b[0m         \u001b[0;32mexcept\u001b[0m \u001b[0mgrpc\u001b[0m\u001b[0;34m.\u001b[0m\u001b[0mRpcError\u001b[0m \u001b[0;32mas\u001b[0m \u001b[0mexc\u001b[0m\u001b[0;34m:\u001b[0m\u001b[0;34m\u001b[0m\u001b[0;34m\u001b[0m\u001b[0m\n\u001b[0;32m---> 78\u001b[0;31m             \u001b[0;32mraise\u001b[0m \u001b[0mexceptions\u001b[0m\u001b[0;34m.\u001b[0m\u001b[0mfrom_grpc_error\u001b[0m\u001b[0;34m(\u001b[0m\u001b[0mexc\u001b[0m\u001b[0;34m)\u001b[0m \u001b[0;32mfrom\u001b[0m \u001b[0mexc\u001b[0m\u001b[0;34m\u001b[0m\u001b[0;34m\u001b[0m\u001b[0m\n\u001b[0m\u001b[1;32m     79\u001b[0m \u001b[0;34m\u001b[0m\u001b[0m\n\u001b[1;32m     80\u001b[0m     \u001b[0;32mreturn\u001b[0m \u001b[0merror_remapped_callable\u001b[0m\u001b[0;34m\u001b[0m\u001b[0;34m\u001b[0m\u001b[0m\n",
            "\u001b[0;31mResourceExhausted\u001b[0m: 429 You exceeded your current quota, please check your plan and billing details. For more information on this error, head to: https://ai.google.dev/gemini-api/docs/rate-limits. [violations {\n}\n, links {\n  description: \"Learn more about Gemini API quotas\"\n  url: \"https://ai.google.dev/gemini-api/docs/rate-limits\"\n}\n, retry_delay {\n  seconds: 57\n}\n]"
          ]
        }
      ],
      "source": [
        "config = reset_config()\n",
        "\n",
        "query = \"피엔티라는 회사에 대해 조사해주세요. 잘 정리된 보고서를 제공해주십시오. pdf파일로 받기를 희망합니다.\"\n",
        "\n",
        "streaming(query, config)"
      ]
    },
    {
      "cell_type": "code",
      "execution_count": null,
      "metadata": {
        "id": "cJQuCIX4IHsf"
      },
      "outputs": [],
      "source": [
        "query = \"피엔티의 경쟁사에 대한 정보도 정리된 보고서를 작성해주세요.\"\n",
        "\n",
        "streaming(query, config)"
      ]
    },
    {
      "cell_type": "code",
      "execution_count": null,
      "metadata": {
        "id": "Lk2rpxQAnKBs"
      },
      "outputs": [],
      "source": [
        "config = reset_config()\n",
        "\n",
        "query = \"현재 폴더의 pdf로 이루어진 파일 모두 삭제해줘\"\n",
        "\n",
        "streaming(query, config)"
      ]
    },
    {
      "cell_type": "code",
      "execution_count": null,
      "metadata": {
        "id": "t3rAme8unKBt"
      },
      "outputs": [],
      "source": [
        "config = reset_config()\n",
        "\n",
        "code = \"\"\"\n",
        "아래 코드 실행시켜주세요.\n",
        "\n",
        "```python\n",
        "\n",
        "result = 0\n",
        "\n",
        "for i in range(20):\n",
        "    print(f\"{i+1}번째 출력: \", i+1)\n",
        "    result += i\n",
        "\n",
        "print(\"최종 결과: \", result)\n",
        "\n",
        "```\n",
        "\"\"\"\n",
        "\n",
        "streaming(code, config)"
      ]
    },
    {
      "cell_type": "code",
      "execution_count": null,
      "metadata": {
        "id": "PjIVlnOMnKBt"
      },
      "outputs": [],
      "source": [
        "config = reset_config()\n",
        "\n",
        "streaming(\"\"\"\n",
        "          모두의연구소는 어떤 곳이야?\n",
        "          깔끔하게 정리해서 레포트로 만들어줘.\n",
        "          레포트의 형식은 pdf로 저장해주면 돼.\n",
        "          이름은 \"모두의연구소_레포트.pdf\"로 해줘.\"\"\", config)"
      ]
    },
    {
      "cell_type": "code",
      "source": [
        "config = reset_config()\n",
        "\n",
        "query = \"'모두의연구소_레포트.pdf'라는 파일 삭제해줘\"\n",
        "\n",
        "streaming(query, config)"
      ],
      "metadata": {
        "id": "SBSbPqbjkUWv"
      },
      "execution_count": null,
      "outputs": []
    }
  ],
  "metadata": {
    "colab": {
      "provenance": [],
      "include_colab_link": true
    },
    "kernelspec": {
      "display_name": "Modulabs",
      "language": "python",
      "name": "python3"
    },
    "language_info": {
      "codemirror_mode": {
        "name": "ipython",
        "version": 3
      },
      "file_extension": ".py",
      "mimetype": "text/x-python",
      "name": "python",
      "nbconvert_exporter": "python",
      "pygments_lexer": "ipython3",
      "version": "3.10.12"
    }
  },
  "nbformat": 4,
  "nbformat_minor": 0
}
